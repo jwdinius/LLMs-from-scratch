{
 "cells": [
  {
   "cell_type": "markdown",
   "id": "12e91914-5f51-43fa-b65b-625e73b4d17b",
   "metadata": {
    "id": "12e91914-5f51-43fa-b65b-625e73b4d17b"
   },
   "source": [
    "<table style=\"width:100%\">\n",
    "<tr>\n",
    "<td style=\"vertical-align:middle; text-align:left;\">\n",
    "<font size=\"2\">\n",
    "Supplementary code for the <a href=\"http://mng.bz/orYv\">Build a Large Language Model From Scratch</a> book by <a href=\"https://sebastianraschka.com\">Sebastian Raschka</a><br>\n",
    "<br>Code repository: <a href=\"https://github.com/rasbt/LLMs-from-scratch\">https://github.com/rasbt/LLMs-from-scratch</a>\n",
    "</font>\n",
    "</td>\n",
    "<td style=\"vertical-align:middle; text-align:left;\">\n",
    "<a href=\"http://mng.bz/orYv\"><img src=\"https://sebastianraschka.com/images/LLMs-from-scratch-images/cover-small.webp?1\" width=\"100px\"></a>\n",
    "</td>\n",
    "</tr>\n",
    "</table>"
   ]
  },
  {
   "cell_type": "markdown",
   "id": "c2520ec3-722f-4f44-bdd1-885b13e7afbf",
   "metadata": {
    "id": "c2520ec3-722f-4f44-bdd1-885b13e7afbf"
   },
   "source": [
    "# Chapter 7: Finetuning To Follow Instructions"
   ]
  },
  {
   "cell_type": "code",
   "execution_count": 1,
   "id": "4e19327b-6c02-4881-ad02-9b6d3ec0b1b4",
   "metadata": {
    "colab": {
     "base_uri": "https://localhost:8080/"
    },
    "id": "4e19327b-6c02-4881-ad02-9b6d3ec0b1b4",
    "outputId": "9d937b84-d8f8-4ce9-cc3c-211188f49a10"
   },
   "outputs": [
    {
     "name": "stdout",
     "output_type": "stream",
     "text": [
      "matplotlib version: 3.10.0\n",
      "tiktoken version: 0.8.0\n",
      "torch version: 2.5.1\n",
      "tqdm version: 4.67.1\n",
      "tensorflow version: 2.18.0\n"
     ]
    }
   ],
   "source": [
    "from importlib.metadata import version\n",
    "\n",
    "pkgs = [\n",
    "    \"matplotlib\",  # Plotting library\n",
    "    \"tiktoken\",    # Tokenizer\n",
    "    \"torch\",       # Deep learning library\n",
    "    \"tqdm\",        # Progress bar\n",
    "    \"tensorflow\",  # For OpenAI's pretrained weights\n",
    "]\n",
    "for p in pkgs:\n",
    "    print(f\"{p} version: {version(p)}\")"
   ]
  },
  {
   "cell_type": "markdown",
   "id": "264fca98-2f9a-4193-b435-2abfa3b4142f",
   "metadata": {
    "id": "264fca98-2f9a-4193-b435-2abfa3b4142f"
   },
   "source": [
    "<img src=\"https://sebastianraschka.com/images/LLMs-from-scratch-images/ch07_compressed/overview.webp?1\" width=500px>"
   ]
  },
  {
   "cell_type": "markdown",
   "id": "8bbc68e9-75b3-41f1-ac2c-e071c3cd0813",
   "metadata": {
    "id": "8bbc68e9-75b3-41f1-ac2c-e071c3cd0813"
   },
   "source": [
    "## 7.1 Introduction to instruction finetuning"
   ]
  },
  {
   "cell_type": "markdown",
   "id": "53dba24a-6805-496c-9a7f-c75e2d3527ab",
   "metadata": {
    "id": "53dba24a-6805-496c-9a7f-c75e2d3527ab"
   },
   "source": [
    "- In chapter 5, we saw that pretraining an LLM involves a training procedure where it learns to generate one word at a time\n",
    "- Hence, a pretrained LLM is good at text completion, but it is not good at following instructions\n",
    "- In this chapter, we teach the LLM to follow instructions better"
   ]
  },
  {
   "cell_type": "markdown",
   "id": "18dc0535-0904-44ed-beaf-9b678292ef35",
   "metadata": {
    "id": "18dc0535-0904-44ed-beaf-9b678292ef35"
   },
   "source": [
    "<img src=\"https://sebastianraschka.com/images/LLMs-from-scratch-images/ch07_compressed/instruction-following.webp\" width=500px>"
   ]
  },
  {
   "cell_type": "markdown",
   "id": "b4698b23-12e0-4bd7-a140-ccb3dd71d4e8",
   "metadata": {
    "id": "b4698b23-12e0-4bd7-a140-ccb3dd71d4e8"
   },
   "source": [
    "- The topics covered in this chapter are summarized in the figure below\n",
    "\n",
    "<img src=\"https://sebastianraschka.com/images/LLMs-from-scratch-images/ch07_compressed/chapter-overview-1.webp?1\" width=500px>"
   ]
  },
  {
   "cell_type": "markdown",
   "id": "5384f0cf-ef3c-4436-a5fa-59bd25649f86",
   "metadata": {
    "id": "5384f0cf-ef3c-4436-a5fa-59bd25649f86"
   },
   "source": [
    "## 7.2 Preparing a dataset for supervised instruction finetuning"
   ]
  },
  {
   "cell_type": "markdown",
   "id": "f8b34ff8-619f-4e89-bd03-ce513269760d",
   "metadata": {
    "id": "f8b34ff8-619f-4e89-bd03-ce513269760d"
   },
   "source": [
    "- We will work with an instruction dataset I prepared for this chapter"
   ]
  },
  {
   "cell_type": "code",
   "execution_count": 2,
   "id": "0G3axLw6kY1N",
   "metadata": {
    "colab": {
     "base_uri": "https://localhost:8080/"
    },
    "id": "0G3axLw6kY1N",
    "outputId": "a5f70eb8-6248-4834-e7ae-6105e94e5afa"
   },
   "outputs": [
    {
     "name": "stdout",
     "output_type": "stream",
     "text": [
      "Number of entries: 1100\n"
     ]
    }
   ],
   "source": [
    "import json\n",
    "import os\n",
    "import urllib\n",
    "\n",
    "\n",
    "def download_and_load_file(file_path, url):\n",
    "\n",
    "    if not os.path.exists(file_path):\n",
    "        with urllib.request.urlopen(url) as response:\n",
    "            text_data = response.read().decode(\"utf-8\")\n",
    "        with open(file_path, \"w\", encoding=\"utf-8\") as file:\n",
    "            file.write(text_data)\n",
    "    else:\n",
    "        with open(file_path, \"r\", encoding=\"utf-8\") as file:\n",
    "            text_data = file.read()\n",
    "\n",
    "    with open(file_path, \"r\", encoding=\"utf-8\") as file:\n",
    "        data = json.load(file)\n",
    "\n",
    "    return data\n",
    "\n",
    "\n",
    "file_path = \"instruction-data.json\"\n",
    "url = (\n",
    "    \"https://raw.githubusercontent.com/rasbt/LLMs-from-scratch\"\n",
    "    \"/main/ch07/01_main-chapter-code/instruction-data.json\"\n",
    ")\n",
    "\n",
    "data = download_and_load_file(file_path, url)\n",
    "print(\"Number of entries:\", len(data))"
   ]
  },
  {
   "cell_type": "markdown",
   "id": "d7af8176-4255-4e92-8c7d-998771733eb8",
   "metadata": {
    "id": "d7af8176-4255-4e92-8c7d-998771733eb8"
   },
   "source": [
    "- Each item in the `data` list we loaded from the JSON file above is a dictionary in the following form"
   ]
  },
  {
   "cell_type": "code",
   "execution_count": 3,
   "id": "-LiuBMsHkzQV",
   "metadata": {
    "colab": {
     "base_uri": "https://localhost:8080/"
    },
    "id": "-LiuBMsHkzQV",
    "outputId": "cc742019-b8d7-40f9-b21a-6a5ddf821377"
   },
   "outputs": [
    {
     "name": "stdout",
     "output_type": "stream",
     "text": [
      "Example entry:\n",
      " {'instruction': 'Identify the correct spelling of the following word.', 'input': 'Ocassion', 'output': \"The correct spelling is 'Occasion.'\"}\n"
     ]
    }
   ],
   "source": [
    "print(\"Example entry:\\n\", data[50])"
   ]
  },
  {
   "cell_type": "markdown",
   "id": "c5a32b34-485a-4816-a77a-da14f9fe6e46",
   "metadata": {
    "id": "c5a32b34-485a-4816-a77a-da14f9fe6e46"
   },
   "source": [
    "- Note that the `'input'` field can be empty:"
   ]
  },
  {
   "cell_type": "code",
   "execution_count": 4,
   "id": "uFInFxDDk2Je",
   "metadata": {
    "colab": {
     "base_uri": "https://localhost:8080/"
    },
    "id": "uFInFxDDk2Je",
    "outputId": "70241295-a9ec-4b7d-caf5-ab6f267e3271"
   },
   "outputs": [
    {
     "name": "stdout",
     "output_type": "stream",
     "text": [
      "Another example entry:\n",
      " {'instruction': \"What is an antonym of 'complicated'?\", 'input': '', 'output': \"An antonym of 'complicated' is 'simple'.\"}\n"
     ]
    }
   ],
   "source": [
    "print(\"Another example entry:\\n\", data[999])"
   ]
  },
  {
   "cell_type": "markdown",
   "id": "f034799a-6575-45fd-98c9-9d1012d0fd58",
   "metadata": {
    "id": "f034799a-6575-45fd-98c9-9d1012d0fd58"
   },
   "source": [
    "- Instruction finetuning is often referred to as \"supervised instruction finetuning\" because it involves training a model on a dataset where the input-output pairs are explicitly provided\n",
    "- There are different ways to format the entries as inputs to the LLM; the figure below illustrates two example formats that were used for training the Alpaca (https://crfm.stanford.edu/2023/03/13/alpaca.html) and Phi-3 (https://arxiv.org/abs/2404.14219) LLMs, respectively"
   ]
  },
  {
   "cell_type": "markdown",
   "id": "dffa4f70-44d4-4be4-89a9-2159f4885b10",
   "metadata": {
    "id": "dffa4f70-44d4-4be4-89a9-2159f4885b10"
   },
   "source": [
    "<img src=\"https://sebastianraschka.com/images/LLMs-from-scratch-images/ch07_compressed/prompt-style.webp?1\" width=500px>"
   ]
  },
  {
   "cell_type": "markdown",
   "id": "dd79a74e-befb-491c-be49-f777a6a5b6a6",
   "metadata": {
    "id": "dd79a74e-befb-491c-be49-f777a6a5b6a6"
   },
   "source": [
    "- In this chapter, we use Alpaca-style prompt formatting, which was the original prompt template for instruction finetuning\n",
    "- Below, we format the input that we will pass as input to the LLM"
   ]
  },
  {
   "cell_type": "markdown",
   "id": "8da9336f",
   "metadata": {},
   "source": [
    "## Exercise 7.1\n",
    "\n",
    "I ran `python3 exercise_experiments.py --exercise_solution phi3_prompt`.  This took awhile to download the GPT2-medium model (~20 min).  I also had to modify the exercise_experiments.py script to use the correct accelerator backend based on what has been detected (for me, the backend is `mps`).\n",
    "\n",
    "I kept running out of memory, but I was able to complete a run and compare the `instruction-data-with-response{-phi3-prompt}.json` files.  The outputs looked comparable."
   ]
  },
  {
   "cell_type": "code",
   "execution_count": 5,
   "id": "Jhk37nnJnkBh",
   "metadata": {
    "id": "Jhk37nnJnkBh"
   },
   "outputs": [],
   "source": [
    "def format_input(entry):\n",
    "    instruction_text = (\n",
    "        f\"Below is an instruction that describes a task. \"\n",
    "        f\"Write a response that appropriately completes the request.\"\n",
    "        f\"\\n\\n### Instruction:\\n{entry['instruction']}\"\n",
    "    )\n",
    "\n",
    "    input_text = f\"\\n\\n### Input:\\n{entry['input']}\" if entry[\"input\"] else \"\"\n",
    "\n",
    "    return instruction_text + input_text"
   ]
  },
  {
   "cell_type": "markdown",
   "id": "011e78b4-e89a-4653-a2ee-7b2739ca04d6",
   "metadata": {
    "id": "011e78b4-e89a-4653-a2ee-7b2739ca04d6"
   },
   "source": [
    "- A formatted response with input field looks like as shown below"
   ]
  },
  {
   "cell_type": "code",
   "execution_count": 6,
   "id": "F9UQRfjzo4Js",
   "metadata": {
    "colab": {
     "base_uri": "https://localhost:8080/"
    },
    "id": "F9UQRfjzo4Js",
    "outputId": "13ec7abf-ad94-4e26-860d-6a39a344f31f"
   },
   "outputs": [
    {
     "name": "stdout",
     "output_type": "stream",
     "text": [
      "Below is an instruction that describes a task. Write a response that appropriately completes the request.\n",
      "\n",
      "### Instruction:\n",
      "Identify the correct spelling of the following word.\n",
      "\n",
      "### Input:\n",
      "Ocassion\n",
      "\n",
      "### Response:\n",
      "The correct spelling is 'Occasion.'\n"
     ]
    }
   ],
   "source": [
    "model_input = format_input(data[50])\n",
    "desired_response = f\"\\n\\n### Response:\\n{data[50]['output']}\"\n",
    "\n",
    "print(model_input + desired_response)"
   ]
  },
  {
   "cell_type": "markdown",
   "id": "4dc93ddf-431c-49c0-96f2-fb3a79c4d94c",
   "metadata": {
    "id": "4dc93ddf-431c-49c0-96f2-fb3a79c4d94c"
   },
   "source": [
    "- Below is a formatted response without an input field"
   ]
  },
  {
   "cell_type": "code",
   "execution_count": 7,
   "id": "a3891fa9-f738-41cd-946c-80ef9a99c346",
   "metadata": {
    "colab": {
     "base_uri": "https://localhost:8080/"
    },
    "id": "a3891fa9-f738-41cd-946c-80ef9a99c346",
    "outputId": "d6be5713-1293-4a70-c8c8-a86ea8e95817"
   },
   "outputs": [
    {
     "name": "stdout",
     "output_type": "stream",
     "text": [
      "Below is an instruction that describes a task. Write a response that appropriately completes the request.\n",
      "\n",
      "### Instruction:\n",
      "What is an antonym of 'complicated'?\n",
      "\n",
      "### Response:\n",
      "An antonym of 'complicated' is 'simple'.\n"
     ]
    }
   ],
   "source": [
    "model_input = format_input(data[999])\n",
    "desired_response = f\"\\n\\n### Response:\\n{data[999]['output']}\"\n",
    "\n",
    "print(model_input + desired_response)"
   ]
  },
  {
   "cell_type": "markdown",
   "id": "4aa8afd5-2a21-49a5-90c3-6a03865a4771",
   "metadata": {
    "id": "4aa8afd5-2a21-49a5-90c3-6a03865a4771"
   },
   "source": [
    "- Lastly, before we prepare the PyTorch data loaders in the next section, we divide the dataset into a training, validation, and test set"
   ]
  },
  {
   "cell_type": "code",
   "execution_count": 8,
   "id": "aFZVopbIlNfx",
   "metadata": {
    "id": "aFZVopbIlNfx"
   },
   "outputs": [],
   "source": [
    "train_portion = int(len(data) * 0.85)  # 85% for training\n",
    "test_portion = int(len(data) * 0.1)    # 10% for testing\n",
    "val_portion = len(data) - train_portion - test_portion  # Remaining 5% for validation\n",
    "\n",
    "train_data = data[:train_portion]\n",
    "test_data = data[train_portion:train_portion + test_portion]\n",
    "val_data = data[train_portion + test_portion:]"
   ]
  },
  {
   "cell_type": "code",
   "execution_count": 9,
   "id": "-zf6oht6bIUQ",
   "metadata": {
    "colab": {
     "base_uri": "https://localhost:8080/"
    },
    "id": "-zf6oht6bIUQ",
    "outputId": "bb5fe8e5-1ce5-4fca-a430-76ecf42e99ef"
   },
   "outputs": [
    {
     "name": "stdout",
     "output_type": "stream",
     "text": [
      "Training set length: 935\n",
      "Validation set length: 55\n",
      "Test set length: 110\n"
     ]
    }
   ],
   "source": [
    "print(\"Training set length:\", len(train_data))\n",
    "print(\"Validation set length:\", len(val_data))\n",
    "print(\"Test set length:\", len(test_data))"
   ]
  },
  {
   "cell_type": "markdown",
   "id": "fcaaf606-f913-4445-8301-632ae10d387d",
   "metadata": {
    "id": "fcaaf606-f913-4445-8301-632ae10d387d"
   },
   "source": [
    "## 7.3 Organizing data into training batches"
   ]
  },
  {
   "cell_type": "markdown",
   "id": "233f63bd-9755-4d07-8884-5e2e5345cf27",
   "metadata": {
    "id": "233f63bd-9755-4d07-8884-5e2e5345cf27"
   },
   "source": [
    "<img src=\"https://sebastianraschka.com/images/LLMs-from-scratch-images/ch07_compressed/chapter-overview-2.webp?1\" width=500px>"
   ]
  },
  {
   "cell_type": "markdown",
   "id": "c149fc1a-7757-4ec8-80cb-e2a3fb007a2c",
   "metadata": {
    "id": "c149fc1a-7757-4ec8-80cb-e2a3fb007a2c"
   },
   "source": [
    "- We tackle this dataset batching in several steps, as summarized in the figure below\n",
    "\n",
    "<img src=\"https://sebastianraschka.com/images/LLMs-from-scratch-images/ch07_compressed/detailed-batching.webp?1\" width=500px>"
   ]
  },
  {
   "cell_type": "markdown",
   "id": "b9af423f-aad9-4b3c-bea5-153021c04862",
   "metadata": {
    "id": "b9af423f-aad9-4b3c-bea5-153021c04862"
   },
   "source": [
    "- First, we implement an `InstructionDataset` class that pre-tokenizes all inputs in the dataset, similar to the `SpamDataset` in chapter 6\n",
    "\n",
    "<img src=\"https://sebastianraschka.com/images/LLMs-from-scratch-images/ch07_compressed/pretokenizing.webp\" width=500px>"
   ]
  },
  {
   "cell_type": "code",
   "execution_count": 10,
   "id": "adc29dc4-f1c7-4c71-937b-95119d6239bb",
   "metadata": {
    "id": "adc29dc4-f1c7-4c71-937b-95119d6239bb"
   },
   "outputs": [],
   "source": [
    "import torch\n",
    "from torch.utils.data import Dataset\n",
    "\n",
    "\n",
    "class InstructionDataset(Dataset):\n",
    "    def __init__(self, data, tokenizer):\n",
    "        self.data = data\n",
    "\n",
    "        # Pre-tokenize texts\n",
    "        self.encoded_texts = []\n",
    "        for entry in data:\n",
    "            instruction_plus_input = format_input(entry)\n",
    "            response_text = f\"\\n\\n### Response:\\n{entry['output']}\"\n",
    "            full_text = instruction_plus_input + response_text\n",
    "            self.encoded_texts.append(\n",
    "                tokenizer.encode(full_text)\n",
    "            )\n",
    "\n",
    "    def __getitem__(self, index):\n",
    "        return self.encoded_texts[index]\n",
    "\n",
    "    def __len__(self):\n",
    "        return len(self.data)"
   ]
  },
  {
   "cell_type": "markdown",
   "id": "384f0e69-4b22-41c0-a25d-f077527eddd1",
   "metadata": {
    "id": "384f0e69-4b22-41c0-a25d-f077527eddd1"
   },
   "source": [
    "- Similar to chapter 6, we want to collect multiple training examples in a batch to accelerate training; this requires padding all inputs to a similar length\n",
    "- Also similar to the previous chapter, we use the `<|endoftext|>` token as a padding token"
   ]
  },
  {
   "cell_type": "code",
   "execution_count": 11,
   "id": "ff24fe1a-5746-461c-ad3d-b6d84a1a7c96",
   "metadata": {
    "colab": {
     "base_uri": "https://localhost:8080/"
    },
    "id": "ff24fe1a-5746-461c-ad3d-b6d84a1a7c96",
    "outputId": "4d63f8b8-b4ad-45d9-9e93-c9dd8c2b7706"
   },
   "outputs": [
    {
     "name": "stdout",
     "output_type": "stream",
     "text": [
      "[50256]\n"
     ]
    }
   ],
   "source": [
    "import tiktoken\n",
    "tokenizer = tiktoken.get_encoding(\"gpt2\")\n",
    "\n",
    "print(tokenizer.encode(\"<|endoftext|>\", allowed_special={\"<|endoftext|>\"}))"
   ]
  },
  {
   "cell_type": "markdown",
   "id": "9e5bd7bc-f347-4cf8-a0c2-94cb8799e427",
   "metadata": {
    "id": "9e5bd7bc-f347-4cf8-a0c2-94cb8799e427"
   },
   "source": [
    "- In chapter 6, we padded all examples in a dataset to the same length\n",
    "  - Here, we take a more sophisticated approach and develop a custom \"collate\" function that we can pass to the data loader\n",
    "  - This custom collate function pads the training examples in each batch to have the same length (but different batches can have different lengths)"
   ]
  },
  {
   "cell_type": "markdown",
   "id": "65c4d943-4aa8-4a44-874e-05bc6831fbd3",
   "metadata": {
    "id": "65c4d943-4aa8-4a44-874e-05bc6831fbd3"
   },
   "source": [
    "<img src=\"https://sebastianraschka.com/images/LLMs-from-scratch-images/ch07_compressed/padding.webp\" width=500px>"
   ]
  },
  {
   "cell_type": "code",
   "execution_count": 12,
   "id": "eb4c77dd-c956-4a1b-897b-b466909f18ca",
   "metadata": {
    "id": "eb4c77dd-c956-4a1b-897b-b466909f18ca"
   },
   "outputs": [],
   "source": [
    "def custom_collate_draft_1(\n",
    "    batch,\n",
    "    pad_token_id=50256,\n",
    "    device=\"cpu\"\n",
    "):\n",
    "    # Find the longest sequence in the batch\n",
    "    # and increase the max length by +1, which will add one extra\n",
    "    # padding token below\n",
    "    batch_max_length = max(len(item)+1 for item in batch)\n",
    "\n",
    "    # Pad and prepare inputs\n",
    "    inputs_lst = []\n",
    "\n",
    "    for item in batch:\n",
    "        new_item = item.copy()\n",
    "        # Add an <|endoftext|> token\n",
    "        new_item += [pad_token_id]\n",
    "        # Pad sequences to batch_max_length\n",
    "        padded = (\n",
    "            new_item + [pad_token_id] *\n",
    "            (batch_max_length - len(new_item))\n",
    "        )\n",
    "        # Via padded[:-1], we remove the extra padded token\n",
    "        # that has been added via the +1 setting in batch_max_length\n",
    "        # (the extra padding token will be relevant in later codes)\n",
    "        inputs = torch.tensor(padded[:-1])\n",
    "        inputs_lst.append(inputs)\n",
    "\n",
    "    # Convert list of inputs to tensor and transfer to target device\n",
    "    inputs_tensor = torch.stack(inputs_lst).to(device)\n",
    "    return inputs_tensor"
   ]
  },
  {
   "cell_type": "code",
   "execution_count": 13,
   "id": "8fb02373-59b3-4f3a-b1d1-8181a2432645",
   "metadata": {
    "colab": {
     "base_uri": "https://localhost:8080/"
    },
    "id": "8fb02373-59b3-4f3a-b1d1-8181a2432645",
    "outputId": "8705ca9a-e999-4f70-9db8-1ad084eba7bb"
   },
   "outputs": [
    {
     "name": "stdout",
     "output_type": "stream",
     "text": [
      "tensor([[    0,     1,     2,     3,     4],\n",
      "        [    5,     6, 50256, 50256, 50256],\n",
      "        [    7,     8,     9, 50256, 50256]])\n"
     ]
    }
   ],
   "source": [
    "inputs_1 = [0, 1, 2, 3, 4]\n",
    "inputs_2 = [5, 6]\n",
    "inputs_3 = [7, 8, 9]\n",
    "\n",
    "batch = (\n",
    "    inputs_1,\n",
    "    inputs_2,\n",
    "    inputs_3\n",
    ")\n",
    "\n",
    "print(custom_collate_draft_1(batch))"
   ]
  },
  {
   "cell_type": "markdown",
   "id": "c46832ab-39b7-45f8-b330-ac9adfa10d1b",
   "metadata": {
    "id": "c46832ab-39b7-45f8-b330-ac9adfa10d1b"
   },
   "source": [
    "<img src=\"https://sebastianraschka.com/images/LLMs-from-scratch-images/ch07_compressed/batching-step-4.webp?1\" width=500px>"
   ]
  },
  {
   "cell_type": "markdown",
   "id": "17769a19-b961-4213-92ef-34f441b2d1d6",
   "metadata": {
    "id": "17769a19-b961-4213-92ef-34f441b2d1d6"
   },
   "source": [
    "- Above, we only returned the inputs to the LLM; however, for LLM training, we also need the target values\n",
    "- Similar to pretraining an LLM, the targets are the inputs shifted by 1 position to the right, so the LLM learns to predict the next token"
   ]
  },
  {
   "cell_type": "markdown",
   "id": "0386b6fe-3455-4e70-becd-a5a4681ba2ef",
   "metadata": {
    "id": "0386b6fe-3455-4e70-becd-a5a4681ba2ef"
   },
   "source": [
    "<img src=\"https://sebastianraschka.com/images/LLMs-from-scratch-images/ch07_compressed/inputs-targets.webp?1\" width=400px>"
   ]
  },
  {
   "cell_type": "code",
   "execution_count": 14,
   "id": "74af192e-757c-4c0a-bdf9-b7eb25bf6ebc",
   "metadata": {
    "id": "74af192e-757c-4c0a-bdf9-b7eb25bf6ebc"
   },
   "outputs": [],
   "source": [
    "def custom_collate_draft_2(\n",
    "    batch,\n",
    "    pad_token_id=50256,\n",
    "    device=\"cpu\"\n",
    "):\n",
    "    # Find the longest sequence in the batch\n",
    "    batch_max_length = max(len(item)+1 for item in batch)\n",
    "\n",
    "    # Pad and prepare inputs\n",
    "    inputs_lst, targets_lst = [], []\n",
    "\n",
    "    for item in batch:\n",
    "        new_item = item.copy()\n",
    "        # Add an <|endoftext|> token\n",
    "        new_item += [pad_token_id]\n",
    "        # Pad sequences to max_length\n",
    "        padded = (\n",
    "            new_item + [pad_token_id] *\n",
    "            (batch_max_length - len(new_item))\n",
    "        )\n",
    "        inputs = torch.tensor(padded[:-1])  # Truncate the last token for inputs\n",
    "        targets = torch.tensor(padded[1:])  # Shift +1 to the right for targets\n",
    "        inputs_lst.append(inputs)\n",
    "        targets_lst.append(targets)\n",
    "\n",
    "    # Convert list of inputs to tensor and transfer to target device\n",
    "    inputs_tensor = torch.stack(inputs_lst).to(device)\n",
    "    targets_tensor = torch.stack(targets_lst).to(device)\n",
    "    return inputs_tensor, targets_tensor"
   ]
  },
  {
   "cell_type": "code",
   "execution_count": 15,
   "id": "6eb2bce3-28a7-4f39-9d4b-5e972d69066c",
   "metadata": {
    "colab": {
     "base_uri": "https://localhost:8080/"
    },
    "id": "6eb2bce3-28a7-4f39-9d4b-5e972d69066c",
    "outputId": "b9ceae14-13c2-49f7-f4a4-b503f3db3009"
   },
   "outputs": [
    {
     "name": "stdout",
     "output_type": "stream",
     "text": [
      "tensor([[    0,     1,     2,     3,     4],\n",
      "        [    5,     6, 50256, 50256, 50256],\n",
      "        [    7,     8,     9, 50256, 50256]])\n",
      "tensor([[    1,     2,     3,     4, 50256],\n",
      "        [    6, 50256, 50256, 50256, 50256],\n",
      "        [    8,     9, 50256, 50256, 50256]])\n"
     ]
    }
   ],
   "source": [
    "inputs, targets = custom_collate_draft_2(batch)\n",
    "print(inputs)\n",
    "print(targets)"
   ]
  },
  {
   "cell_type": "markdown",
   "id": "3bf85703-a0e0-42aa-8f29-cbc28dbf4e15",
   "metadata": {
    "id": "3bf85703-a0e0-42aa-8f29-cbc28dbf4e15"
   },
   "source": [
    "- Next, we introduce an `ignore_index` value to replace all padding token IDs with a new value; the purpose of this `ignore_index` is that we can ignore padding values in the loss function (more on that later)\n",
    "\n",
    "<img src=\"https://sebastianraschka.com/images/LLMs-from-scratch-images/ch07_compressed/batching-step-5.webp?1\" width=500px>\n",
    "\n",
    "- Concretely, this means that we replace the token IDs corresponding to `50256` with `-100` as illustrated below"
   ]
  },
  {
   "cell_type": "markdown",
   "id": "bd4bed33-956e-4b3f-a09c-586d8203109a",
   "metadata": {
    "id": "bd4bed33-956e-4b3f-a09c-586d8203109a"
   },
   "source": [
    "<img src=\"https://sebastianraschka.com/images/LLMs-from-scratch-images/ch07_compressed/ignore-index.webp?1\" width=500px>"
   ]
  },
  {
   "cell_type": "markdown",
   "id": "5346513e-c3f4-44fe-af22-4ebd36497728",
   "metadata": {
    "id": "5346513e-c3f4-44fe-af22-4ebd36497728"
   },
   "source": [
    "- (In addition, we also introduce the `allowed_max_length` in case we want to limit the length of the samples; this will be useful if you plan to work with your own datasets that are longer than the 1024 token context size supported by the GPT-2 model)"
   ]
  },
  {
   "cell_type": "code",
   "execution_count": 16,
   "id": "41ec6e2d-9eb2-4124-913e-d2af39be4cf2",
   "metadata": {
    "id": "41ec6e2d-9eb2-4124-913e-d2af39be4cf2"
   },
   "outputs": [],
   "source": [
    "def custom_collate_fn(\n",
    "    batch,\n",
    "    pad_token_id=50256,\n",
    "    ignore_index=-100,\n",
    "    allowed_max_length=None,\n",
    "    device=\"cpu\"\n",
    "):\n",
    "    # Find the longest sequence in the batch\n",
    "    batch_max_length = max(len(item)+1 for item in batch)\n",
    "\n",
    "    # Pad and prepare inputs and targets\n",
    "    inputs_lst, targets_lst = [], []\n",
    "\n",
    "    for item in batch:\n",
    "        new_item = item.copy()\n",
    "        # Add an <|endoftext|> token\n",
    "        new_item += [pad_token_id]\n",
    "        # Pad sequences to max_length\n",
    "        padded = (\n",
    "            new_item + [pad_token_id] *\n",
    "            (batch_max_length - len(new_item))\n",
    "        )\n",
    "        inputs = torch.tensor(padded[:-1])  # Truncate the last token for inputs\n",
    "        targets = torch.tensor(padded[1:])  # Shift +1 to the right for targets\n",
    "\n",
    "        # New: Replace all but the first padding tokens in targets by ignore_index\n",
    "        mask = targets == pad_token_id\n",
    "        indices = torch.nonzero(mask).squeeze()\n",
    "        if indices.numel() > 1:\n",
    "            targets[indices[1:]] = ignore_index\n",
    "\n",
    "        # New: Optionally truncate to maximum sequence length\n",
    "        if allowed_max_length is not None:\n",
    "            inputs = inputs[:allowed_max_length]\n",
    "            targets = targets[:allowed_max_length]\n",
    "\n",
    "        inputs_lst.append(inputs)\n",
    "        targets_lst.append(targets)\n",
    "\n",
    "    # Convert list of inputs and targets to tensors and transfer to target device\n",
    "    inputs_tensor = torch.stack(inputs_lst).to(device)\n",
    "    targets_tensor = torch.stack(targets_lst).to(device)\n",
    "\n",
    "    return inputs_tensor, targets_tensor"
   ]
  },
  {
   "cell_type": "code",
   "execution_count": 17,
   "id": "cdf5eec4-9ebe-4be0-9fca-9a47bee88fdc",
   "metadata": {
    "colab": {
     "base_uri": "https://localhost:8080/"
    },
    "id": "cdf5eec4-9ebe-4be0-9fca-9a47bee88fdc",
    "outputId": "a5501547-239d-431d-fb04-da7fa2ffad79"
   },
   "outputs": [
    {
     "name": "stdout",
     "output_type": "stream",
     "text": [
      "tensor([[    0,     1,     2,     3,     4],\n",
      "        [    5,     6, 50256, 50256, 50256],\n",
      "        [    7,     8,     9, 50256, 50256]])\n",
      "tensor([[    1,     2,     3,     4, 50256],\n",
      "        [    6, 50256,  -100,  -100,  -100],\n",
      "        [    8,     9, 50256,  -100,  -100]])\n"
     ]
    }
   ],
   "source": [
    "inputs, targets = custom_collate_fn(batch)\n",
    "print(inputs)\n",
    "print(targets)"
   ]
  },
  {
   "cell_type": "markdown",
   "id": "26727c90-0d42-43b3-af21-0a66ad4fbbc7",
   "metadata": {
    "id": "26727c90-0d42-43b3-af21-0a66ad4fbbc7"
   },
   "source": [
    "- Let's see what this replacement by -100 accomplishes\n",
    "- For illustration purposes, let's assume we have a small classification task with 2 class labels, 0 and 1, similar to chapter 6\n",
    "- If we have the following logits values (outputs of the last layer of the model), we calculate the following loss"
   ]
  },
  {
   "cell_type": "code",
   "execution_count": 18,
   "id": "W2jvh-OP9MFV",
   "metadata": {
    "colab": {
     "base_uri": "https://localhost:8080/"
    },
    "id": "W2jvh-OP9MFV",
    "outputId": "b5cd858e-7c58-4a21-c5a7-e72768bd301c"
   },
   "outputs": [
    {
     "name": "stdout",
     "output_type": "stream",
     "text": [
      "tensor(1.1269)\n"
     ]
    }
   ],
   "source": [
    "logits_1 = torch.tensor(\n",
    "    [[-1.0, 1.0],  # 1st training example\n",
    "     [-0.5, 1.5]]  # 2nd training example\n",
    ")\n",
    "targets_1 = torch.tensor([0, 1])\n",
    "\n",
    "\n",
    "loss_1 = torch.nn.functional.cross_entropy(logits_1, targets_1)\n",
    "print(loss_1)"
   ]
  },
  {
   "cell_type": "markdown",
   "id": "5edd3244-8886-4505-92e9-367d28529e1e",
   "metadata": {
    "id": "5edd3244-8886-4505-92e9-367d28529e1e"
   },
   "source": [
    "- Now, adding one more training example will, as expected, influence the loss"
   ]
  },
  {
   "cell_type": "code",
   "execution_count": 19,
   "id": "nvVMuil89v9N",
   "metadata": {
    "colab": {
     "base_uri": "https://localhost:8080/"
    },
    "id": "nvVMuil89v9N",
    "outputId": "e4a07b99-a23c-4404-ccdb-5f93c39f3b09"
   },
   "outputs": [
    {
     "name": "stdout",
     "output_type": "stream",
     "text": [
      "tensor(0.7936)\n"
     ]
    }
   ],
   "source": [
    "logits_2 = torch.tensor(\n",
    "    [[-1.0, 1.0],\n",
    "     [-0.5, 1.5],\n",
    "     [-0.5, 1.5]]  # New 3rd training example\n",
    ")\n",
    "targets_2 = torch.tensor([0, 1, 1])\n",
    "\n",
    "loss_2 = torch.nn.functional.cross_entropy(logits_2, targets_2)\n",
    "print(loss_2)"
   ]
  },
  {
   "cell_type": "markdown",
   "id": "54dca331-40e0-468b-b690-189fe156ba8f",
   "metadata": {
    "id": "54dca331-40e0-468b-b690-189fe156ba8f"
   },
   "source": [
    "- Let's see what happens if we replace the class label of one of the examples with -100"
   ]
  },
  {
   "cell_type": "code",
   "execution_count": 20,
   "id": "RTyB1vah9p56",
   "metadata": {
    "colab": {
     "base_uri": "https://localhost:8080/"
    },
    "id": "RTyB1vah9p56",
    "outputId": "28c16387-1d9c-48a7-eda7-aa270864683d"
   },
   "outputs": [
    {
     "name": "stdout",
     "output_type": "stream",
     "text": [
      "tensor(1.1269)\n",
      "loss_1 == loss_3: tensor(True)\n"
     ]
    }
   ],
   "source": [
    "targets_3 = torch.tensor([0, 1, -100])\n",
    "\n",
    "loss_3 = torch.nn.functional.cross_entropy(logits_2, targets_3)\n",
    "print(loss_3)\n",
    "print(\"loss_1 == loss_3:\", loss_1 == loss_3)"
   ]
  },
  {
   "cell_type": "markdown",
   "id": "cef09d21-b652-4760-abea-4f76920e6a25",
   "metadata": {
    "id": "cef09d21-b652-4760-abea-4f76920e6a25"
   },
   "source": [
    "- As we can see, the resulting loss on these 3 training examples is the same as the loss we calculated from the 2 training examples, which means that the cross-entropy loss function ignored the training example with the -100 label\n",
    "- By default, PyTorch has the `cross_entropy(..., ignore_index=-100)` setting to ignore examples corresponding to the label -100\n",
    "- Using this -100 `ignore_index`, we can ignore the additional end-of-text (padding) tokens in the batches that we used to pad the training examples to equal length\n",
    "- However, we don't want to ignore the first instance of the end-of-text (padding) token (50256) because it can help signal to the LLM when the response is complete"
   ]
  },
  {
   "cell_type": "markdown",
   "id": "6a4e9c5f-7c49-4321-9f1b-a50468a84524",
   "metadata": {
    "id": "6a4e9c5f-7c49-4321-9f1b-a50468a84524"
   },
   "source": [
    "- In practice, it is also common to mask out the target token IDs that correspond to the instruction, as illustrated in the figure below (this is a recommended reader exercise after completing the chapter)"
   ]
  },
  {
   "cell_type": "markdown",
   "id": "fab8f0ed-80e8-4fd9-bf84-e5d0e0bc0a39",
   "metadata": {
    "id": "fab8f0ed-80e8-4fd9-bf84-e5d0e0bc0a39"
   },
   "source": [
    "<img src=\"https://sebastianraschka.com/images/LLMs-from-scratch-images/ch07_compressed/mask-instructions.webp?1\" width=600px>"
   ]
  },
  {
   "cell_type": "markdown",
   "id": "299e2a18",
   "metadata": {},
   "source": [
    "## Exercise 7.2\n",
    "\n",
    "(to be completed after the chapter)"
   ]
  },
  {
   "cell_type": "markdown",
   "id": "bccaf048-ec95-498c-9155-d5b3ccba6c96",
   "metadata": {
    "id": "bccaf048-ec95-498c-9155-d5b3ccba6c96"
   },
   "source": [
    "## 7.4 Creating data loaders for an instruction dataset"
   ]
  },
  {
   "cell_type": "markdown",
   "id": "e6b8e656-3af3-4db6-8dde-d8c216a12f50",
   "metadata": {
    "id": "e6b8e656-3af3-4db6-8dde-d8c216a12f50"
   },
   "source": [
    "- In this section, we use the `InstructionDataset` class and `custom_collate_fn` function to instantiate the training, validation, and test data loaders"
   ]
  },
  {
   "cell_type": "markdown",
   "id": "9fffe390-b226-4d5c-983f-9f4da773cb82",
   "metadata": {
    "id": "9fffe390-b226-4d5c-983f-9f4da773cb82"
   },
   "source": [
    "<img src=\"https://sebastianraschka.com/images/LLMs-from-scratch-images/ch07_compressed/chapter-overview-3.webp?1\" width=500px>"
   ]
  },
  {
   "cell_type": "markdown",
   "id": "932677e9-9317-42e8-b461-7b0269518f97",
   "metadata": {
    "id": "932677e9-9317-42e8-b461-7b0269518f97"
   },
   "source": [
    "- Another additional detail of the previous `custom_collate_fn` function is that we now directly move the data to the target device (e.g., GPU) instead of doing it in the main training loop, which improves efficiency because it can be carried out as a background process when we use the `custom_collate_fn` as part of the data loader\n",
    "- Using the `partial` function from Python's `functools` standard library, we create a new function with the `device` argument of the original function pre-filled"
   ]
  },
  {
   "cell_type": "code",
   "execution_count": 21,
   "id": "etpqqWh8phKc",
   "metadata": {
    "colab": {
     "base_uri": "https://localhost:8080/"
    },
    "id": "etpqqWh8phKc",
    "outputId": "925faf3a-6df4-4ad0-f276-f328493619c3"
   },
   "outputs": [
    {
     "name": "stdout",
     "output_type": "stream",
     "text": [
      "Device: mps\n"
     ]
    }
   ],
   "source": [
    "#device = torch.device(\"cuda\" if torch.cuda.is_available() else \"cpu\")\n",
    "\n",
    "# Note:\n",
    "# Uncommenting the following lines will allow the code to run on Apple Silicon chips, if applicable,\n",
    "# which is much faster than on an Apple CPU (as measured on an M3 MacBook Air).\n",
    "# However, the resulting loss values may be slightly different.\n",
    "\n",
    "if torch.cuda.is_available():\n",
    "    device = torch.device(\"cuda\")\n",
    "elif torch.backends.mps.is_available():\n",
    "    device = torch.device(\"mps\")\n",
    "else:\n",
    "    device = torch.device(\"cpu\")\n",
    "\n",
    "print(\"Device:\", device)"
   ]
  },
  {
   "cell_type": "code",
   "execution_count": 22,
   "id": "4e47fb30-c2c6-4e6d-a64c-76cc65be4a2c",
   "metadata": {
    "id": "4e47fb30-c2c6-4e6d-a64c-76cc65be4a2c"
   },
   "outputs": [],
   "source": [
    "from functools import partial\n",
    "\n",
    "customized_collate_fn = partial(\n",
    "    custom_collate_fn,\n",
    "    device=device,\n",
    "    allowed_max_length=1024\n",
    ")"
   ]
  },
  {
   "cell_type": "markdown",
   "id": "8ff42c29-8b81-45e5-ae8d-b97cd1cf447a",
   "metadata": {
    "id": "8ff42c29-8b81-45e5-ae8d-b97cd1cf447a"
   },
   "source": [
    "- Next, we instantiate the data loaders similar to previous chapters, except that we now provide our own collate function for the batching process"
   ]
  },
  {
   "cell_type": "code",
   "execution_count": 23,
   "id": "BtWkgir6Hlpe",
   "metadata": {
    "id": "BtWkgir6Hlpe"
   },
   "outputs": [],
   "source": [
    "from torch.utils.data import DataLoader\n",
    "\n",
    "\n",
    "num_workers = 0\n",
    "#batch_size = 8\n",
    "batch_size = 2 # JWD: I'm worried about memory\n",
    "torch.manual_seed(123)\n",
    "\n",
    "train_dataset = InstructionDataset(train_data, tokenizer)\n",
    "train_loader = DataLoader(\n",
    "    train_dataset,\n",
    "    batch_size=batch_size,\n",
    "    collate_fn=customized_collate_fn,\n",
    "    shuffle=True,\n",
    "    drop_last=True,\n",
    "    num_workers=num_workers\n",
    ")"
   ]
  },
  {
   "cell_type": "code",
   "execution_count": 33,
   "id": "1d097dc8-ad34-4f05-b435-e4147965f532",
   "metadata": {
    "id": "1d097dc8-ad34-4f05-b435-e4147965f532"
   },
   "outputs": [],
   "source": [
    "val_dataset = InstructionDataset(val_data, tokenizer)\n",
    "val_loader = DataLoader(\n",
    "    val_dataset,\n",
    "    batch_size=batch_size,\n",
    "    collate_fn=customized_collate_fn,\n",
    "    shuffle=False,\n",
    "    drop_last=False,\n",
    "    num_workers=num_workers\n",
    ")\n",
    "\n",
    "test_dataset = InstructionDataset(test_data, tokenizer)\n",
    "test_loader = DataLoader(\n",
    "    test_dataset,\n",
    "    batch_size=batch_size,\n",
    "    collate_fn=customized_collate_fn,\n",
    "    shuffle=False,\n",
    "    drop_last=False,\n",
    "    num_workers=num_workers\n",
    ")"
   ]
  },
  {
   "cell_type": "markdown",
   "id": "3f67c147-b1a2-4a95-9807-e2d0de0324c0",
   "metadata": {
    "id": "3f67c147-b1a2-4a95-9807-e2d0de0324c0"
   },
   "source": [
    "- Let's see what the dimensions of the resulting input and target batches look like"
   ]
  },
  {
   "cell_type": "code",
   "execution_count": 24,
   "id": "GGs1AI3vHpnX",
   "metadata": {
    "colab": {
     "base_uri": "https://localhost:8080/"
    },
    "id": "GGs1AI3vHpnX",
    "outputId": "53a9695d-87cb-4d7c-8b43-1561dfa68ba0"
   },
   "outputs": [
    {
     "name": "stdout",
     "output_type": "stream",
     "text": [
      "Train loader:\n",
      "torch.Size([2, 61]) torch.Size([2, 61])\n",
      "torch.Size([2, 55]) torch.Size([2, 55])\n",
      "torch.Size([2, 58]) torch.Size([2, 58])\n",
      "torch.Size([2, 58]) torch.Size([2, 58])\n",
      "torch.Size([2, 62]) torch.Size([2, 62])\n",
      "torch.Size([2, 47]) torch.Size([2, 47])\n",
      "torch.Size([2, 76]) torch.Size([2, 76])\n",
      "torch.Size([2, 54]) torch.Size([2, 54])\n",
      "torch.Size([2, 67]) torch.Size([2, 67])\n",
      "torch.Size([2, 73]) torch.Size([2, 73])\n",
      "torch.Size([2, 50]) torch.Size([2, 50])\n",
      "torch.Size([2, 55]) torch.Size([2, 55])\n",
      "torch.Size([2, 68]) torch.Size([2, 68])\n",
      "torch.Size([2, 51]) torch.Size([2, 51])\n",
      "torch.Size([2, 61]) torch.Size([2, 61])\n",
      "torch.Size([2, 68]) torch.Size([2, 68])\n",
      "torch.Size([2, 65]) torch.Size([2, 65])\n",
      "torch.Size([2, 53]) torch.Size([2, 53])\n",
      "torch.Size([2, 54]) torch.Size([2, 54])\n",
      "torch.Size([2, 57]) torch.Size([2, 57])\n",
      "torch.Size([2, 57]) torch.Size([2, 57])\n",
      "torch.Size([2, 72]) torch.Size([2, 72])\n",
      "torch.Size([2, 60]) torch.Size([2, 60])\n",
      "torch.Size([2, 59]) torch.Size([2, 59])\n",
      "torch.Size([2, 58]) torch.Size([2, 58])\n",
      "torch.Size([2, 80]) torch.Size([2, 80])\n",
      "torch.Size([2, 64]) torch.Size([2, 64])\n",
      "torch.Size([2, 52]) torch.Size([2, 52])\n",
      "torch.Size([2, 54]) torch.Size([2, 54])\n",
      "torch.Size([2, 63]) torch.Size([2, 63])\n",
      "torch.Size([2, 67]) torch.Size([2, 67])\n",
      "torch.Size([2, 54]) torch.Size([2, 54])\n",
      "torch.Size([2, 61]) torch.Size([2, 61])\n",
      "torch.Size([2, 61]) torch.Size([2, 61])\n",
      "torch.Size([2, 62]) torch.Size([2, 62])\n",
      "torch.Size([2, 52]) torch.Size([2, 52])\n",
      "torch.Size([2, 68]) torch.Size([2, 68])\n",
      "torch.Size([2, 55]) torch.Size([2, 55])\n",
      "torch.Size([2, 61]) torch.Size([2, 61])\n",
      "torch.Size([2, 75]) torch.Size([2, 75])\n",
      "torch.Size([2, 52]) torch.Size([2, 52])\n",
      "torch.Size([2, 49]) torch.Size([2, 49])\n",
      "torch.Size([2, 62]) torch.Size([2, 62])\n",
      "torch.Size([2, 54]) torch.Size([2, 54])\n",
      "torch.Size([2, 67]) torch.Size([2, 67])\n",
      "torch.Size([2, 65]) torch.Size([2, 65])\n",
      "torch.Size([2, 58]) torch.Size([2, 58])\n",
      "torch.Size([2, 68]) torch.Size([2, 68])\n",
      "torch.Size([2, 65]) torch.Size([2, 65])\n",
      "torch.Size([2, 64]) torch.Size([2, 64])\n",
      "torch.Size([2, 67]) torch.Size([2, 67])\n",
      "torch.Size([2, 52]) torch.Size([2, 52])\n",
      "torch.Size([2, 60]) torch.Size([2, 60])\n",
      "torch.Size([2, 56]) torch.Size([2, 56])\n",
      "torch.Size([2, 61]) torch.Size([2, 61])\n",
      "torch.Size([2, 77]) torch.Size([2, 77])\n",
      "torch.Size([2, 59]) torch.Size([2, 59])\n",
      "torch.Size([2, 51]) torch.Size([2, 51])\n",
      "torch.Size([2, 69]) torch.Size([2, 69])\n",
      "torch.Size([2, 52]) torch.Size([2, 52])\n",
      "torch.Size([2, 51]) torch.Size([2, 51])\n",
      "torch.Size([2, 65]) torch.Size([2, 65])\n",
      "torch.Size([2, 54]) torch.Size([2, 54])\n",
      "torch.Size([2, 79]) torch.Size([2, 79])\n",
      "torch.Size([2, 52]) torch.Size([2, 52])\n",
      "torch.Size([2, 71]) torch.Size([2, 71])\n",
      "torch.Size([2, 52]) torch.Size([2, 52])\n",
      "torch.Size([2, 50]) torch.Size([2, 50])\n",
      "torch.Size([2, 66]) torch.Size([2, 66])\n",
      "torch.Size([2, 59]) torch.Size([2, 59])\n",
      "torch.Size([2, 57]) torch.Size([2, 57])\n",
      "torch.Size([2, 60]) torch.Size([2, 60])\n",
      "torch.Size([2, 58]) torch.Size([2, 58])\n",
      "torch.Size([2, 83]) torch.Size([2, 83])\n",
      "torch.Size([2, 61]) torch.Size([2, 61])\n",
      "torch.Size([2, 53]) torch.Size([2, 53])\n",
      "torch.Size([2, 68]) torch.Size([2, 68])\n",
      "torch.Size([2, 50]) torch.Size([2, 50])\n",
      "torch.Size([2, 59]) torch.Size([2, 59])\n",
      "torch.Size([2, 59]) torch.Size([2, 59])\n",
      "torch.Size([2, 58]) torch.Size([2, 58])\n",
      "torch.Size([2, 57]) torch.Size([2, 57])\n",
      "torch.Size([2, 70]) torch.Size([2, 70])\n",
      "torch.Size([2, 80]) torch.Size([2, 80])\n",
      "torch.Size([2, 57]) torch.Size([2, 57])\n",
      "torch.Size([2, 71]) torch.Size([2, 71])\n",
      "torch.Size([2, 68]) torch.Size([2, 68])\n",
      "torch.Size([2, 61]) torch.Size([2, 61])\n",
      "torch.Size([2, 63]) torch.Size([2, 63])\n",
      "torch.Size([2, 58]) torch.Size([2, 58])\n",
      "torch.Size([2, 69]) torch.Size([2, 69])\n",
      "torch.Size([2, 58]) torch.Size([2, 58])\n",
      "torch.Size([2, 48]) torch.Size([2, 48])\n",
      "torch.Size([2, 48]) torch.Size([2, 48])\n",
      "torch.Size([2, 58]) torch.Size([2, 58])\n",
      "torch.Size([2, 65]) torch.Size([2, 65])\n",
      "torch.Size([2, 68]) torch.Size([2, 68])\n",
      "torch.Size([2, 50]) torch.Size([2, 50])\n",
      "torch.Size([2, 61]) torch.Size([2, 61])\n",
      "torch.Size([2, 56]) torch.Size([2, 56])\n",
      "torch.Size([2, 60]) torch.Size([2, 60])\n",
      "torch.Size([2, 54]) torch.Size([2, 54])\n",
      "torch.Size([2, 52]) torch.Size([2, 52])\n",
      "torch.Size([2, 57]) torch.Size([2, 57])\n",
      "torch.Size([2, 53]) torch.Size([2, 53])\n",
      "torch.Size([2, 59]) torch.Size([2, 59])\n",
      "torch.Size([2, 54]) torch.Size([2, 54])\n",
      "torch.Size([2, 57]) torch.Size([2, 57])\n",
      "torch.Size([2, 63]) torch.Size([2, 63])\n",
      "torch.Size([2, 52]) torch.Size([2, 52])\n",
      "torch.Size([2, 56]) torch.Size([2, 56])\n",
      "torch.Size([2, 69]) torch.Size([2, 69])\n",
      "torch.Size([2, 60]) torch.Size([2, 60])\n",
      "torch.Size([2, 60]) torch.Size([2, 60])\n",
      "torch.Size([2, 53]) torch.Size([2, 53])\n",
      "torch.Size([2, 63]) torch.Size([2, 63])\n",
      "torch.Size([2, 65]) torch.Size([2, 65])\n",
      "torch.Size([2, 50]) torch.Size([2, 50])\n",
      "torch.Size([2, 53]) torch.Size([2, 53])\n",
      "torch.Size([2, 65]) torch.Size([2, 65])\n",
      "torch.Size([2, 59]) torch.Size([2, 59])\n",
      "torch.Size([2, 60]) torch.Size([2, 60])\n",
      "torch.Size([2, 76]) torch.Size([2, 76])\n",
      "torch.Size([2, 58]) torch.Size([2, 58])\n",
      "torch.Size([2, 59]) torch.Size([2, 59])\n",
      "torch.Size([2, 62]) torch.Size([2, 62])\n",
      "torch.Size([2, 66]) torch.Size([2, 66])\n",
      "torch.Size([2, 59]) torch.Size([2, 59])\n",
      "torch.Size([2, 71]) torch.Size([2, 71])\n",
      "torch.Size([2, 48]) torch.Size([2, 48])\n",
      "torch.Size([2, 62]) torch.Size([2, 62])\n",
      "torch.Size([2, 71]) torch.Size([2, 71])\n",
      "torch.Size([2, 69]) torch.Size([2, 69])\n",
      "torch.Size([2, 55]) torch.Size([2, 55])\n",
      "torch.Size([2, 91]) torch.Size([2, 91])\n",
      "torch.Size([2, 69]) torch.Size([2, 69])\n",
      "torch.Size([2, 60]) torch.Size([2, 60])\n",
      "torch.Size([2, 62]) torch.Size([2, 62])\n",
      "torch.Size([2, 65]) torch.Size([2, 65])\n",
      "torch.Size([2, 52]) torch.Size([2, 52])\n",
      "torch.Size([2, 64]) torch.Size([2, 64])\n",
      "torch.Size([2, 50]) torch.Size([2, 50])\n",
      "torch.Size([2, 50]) torch.Size([2, 50])\n",
      "torch.Size([2, 58]) torch.Size([2, 58])\n",
      "torch.Size([2, 53]) torch.Size([2, 53])\n",
      "torch.Size([2, 64]) torch.Size([2, 64])\n",
      "torch.Size([2, 57]) torch.Size([2, 57])\n",
      "torch.Size([2, 67]) torch.Size([2, 67])\n",
      "torch.Size([2, 55]) torch.Size([2, 55])\n",
      "torch.Size([2, 66]) torch.Size([2, 66])\n",
      "torch.Size([2, 46]) torch.Size([2, 46])\n",
      "torch.Size([2, 61]) torch.Size([2, 61])\n",
      "torch.Size([2, 54]) torch.Size([2, 54])\n",
      "torch.Size([2, 54]) torch.Size([2, 54])\n",
      "torch.Size([2, 55]) torch.Size([2, 55])\n",
      "torch.Size([2, 64]) torch.Size([2, 64])\n",
      "torch.Size([2, 52]) torch.Size([2, 52])\n",
      "torch.Size([2, 49]) torch.Size([2, 49])\n",
      "torch.Size([2, 61]) torch.Size([2, 61])\n",
      "torch.Size([2, 65]) torch.Size([2, 65])\n",
      "torch.Size([2, 58]) torch.Size([2, 58])\n",
      "torch.Size([2, 59]) torch.Size([2, 59])\n",
      "torch.Size([2, 75]) torch.Size([2, 75])\n",
      "torch.Size([2, 52]) torch.Size([2, 52])\n",
      "torch.Size([2, 53]) torch.Size([2, 53])\n",
      "torch.Size([2, 56]) torch.Size([2, 56])\n",
      "torch.Size([2, 89]) torch.Size([2, 89])\n",
      "torch.Size([2, 56]) torch.Size([2, 56])\n",
      "torch.Size([2, 53]) torch.Size([2, 53])\n",
      "torch.Size([2, 59]) torch.Size([2, 59])\n",
      "torch.Size([2, 52]) torch.Size([2, 52])\n",
      "torch.Size([2, 50]) torch.Size([2, 50])\n",
      "torch.Size([2, 54]) torch.Size([2, 54])\n",
      "torch.Size([2, 60]) torch.Size([2, 60])\n",
      "torch.Size([2, 60]) torch.Size([2, 60])\n",
      "torch.Size([2, 88]) torch.Size([2, 88])\n",
      "torch.Size([2, 56]) torch.Size([2, 56])\n",
      "torch.Size([2, 53]) torch.Size([2, 53])\n",
      "torch.Size([2, 83]) torch.Size([2, 83])\n",
      "torch.Size([2, 65]) torch.Size([2, 65])\n",
      "torch.Size([2, 53]) torch.Size([2, 53])\n",
      "torch.Size([2, 58]) torch.Size([2, 58])\n",
      "torch.Size([2, 83]) torch.Size([2, 83])\n",
      "torch.Size([2, 57]) torch.Size([2, 57])\n",
      "torch.Size([2, 60]) torch.Size([2, 60])\n",
      "torch.Size([2, 70]) torch.Size([2, 70])\n",
      "torch.Size([2, 51]) torch.Size([2, 51])\n",
      "torch.Size([2, 66]) torch.Size([2, 66])\n",
      "torch.Size([2, 65]) torch.Size([2, 65])\n",
      "torch.Size([2, 58]) torch.Size([2, 58])\n",
      "torch.Size([2, 55]) torch.Size([2, 55])\n",
      "torch.Size([2, 59]) torch.Size([2, 59])\n",
      "torch.Size([2, 59]) torch.Size([2, 59])\n",
      "torch.Size([2, 59]) torch.Size([2, 59])\n",
      "torch.Size([2, 66]) torch.Size([2, 66])\n",
      "torch.Size([2, 74]) torch.Size([2, 74])\n",
      "torch.Size([2, 52]) torch.Size([2, 52])\n",
      "torch.Size([2, 76]) torch.Size([2, 76])\n",
      "torch.Size([2, 70]) torch.Size([2, 70])\n",
      "torch.Size([2, 75]) torch.Size([2, 75])\n",
      "torch.Size([2, 64]) torch.Size([2, 64])\n",
      "torch.Size([2, 67]) torch.Size([2, 67])\n",
      "torch.Size([2, 55]) torch.Size([2, 55])\n",
      "torch.Size([2, 52]) torch.Size([2, 52])\n",
      "torch.Size([2, 60]) torch.Size([2, 60])\n",
      "torch.Size([2, 58]) torch.Size([2, 58])\n",
      "torch.Size([2, 75]) torch.Size([2, 75])\n",
      "torch.Size([2, 55]) torch.Size([2, 55])\n",
      "torch.Size([2, 83]) torch.Size([2, 83])\n",
      "torch.Size([2, 59]) torch.Size([2, 59])\n",
      "torch.Size([2, 55]) torch.Size([2, 55])\n",
      "torch.Size([2, 74]) torch.Size([2, 74])\n",
      "torch.Size([2, 58]) torch.Size([2, 58])\n",
      "torch.Size([2, 69]) torch.Size([2, 69])\n",
      "torch.Size([2, 56]) torch.Size([2, 56])\n",
      "torch.Size([2, 52]) torch.Size([2, 52])\n",
      "torch.Size([2, 67]) torch.Size([2, 67])\n",
      "torch.Size([2, 61]) torch.Size([2, 61])\n",
      "torch.Size([2, 65]) torch.Size([2, 65])\n",
      "torch.Size([2, 63]) torch.Size([2, 63])\n",
      "torch.Size([2, 60]) torch.Size([2, 60])\n",
      "torch.Size([2, 54]) torch.Size([2, 54])\n",
      "torch.Size([2, 59]) torch.Size([2, 59])\n",
      "torch.Size([2, 56]) torch.Size([2, 56])\n",
      "torch.Size([2, 60]) torch.Size([2, 60])\n",
      "torch.Size([2, 60]) torch.Size([2, 60])\n",
      "torch.Size([2, 55]) torch.Size([2, 55])\n",
      "torch.Size([2, 58]) torch.Size([2, 58])\n",
      "torch.Size([2, 50]) torch.Size([2, 50])\n",
      "torch.Size([2, 63]) torch.Size([2, 63])\n",
      "torch.Size([2, 57]) torch.Size([2, 57])\n",
      "torch.Size([2, 66]) torch.Size([2, 66])\n",
      "torch.Size([2, 69]) torch.Size([2, 69])\n",
      "torch.Size([2, 56]) torch.Size([2, 56])\n",
      "torch.Size([2, 60]) torch.Size([2, 60])\n",
      "torch.Size([2, 80]) torch.Size([2, 80])\n",
      "torch.Size([2, 71]) torch.Size([2, 71])\n",
      "torch.Size([2, 70]) torch.Size([2, 70])\n",
      "torch.Size([2, 60]) torch.Size([2, 60])\n",
      "torch.Size([2, 56]) torch.Size([2, 56])\n",
      "torch.Size([2, 61]) torch.Size([2, 61])\n",
      "torch.Size([2, 60]) torch.Size([2, 60])\n",
      "torch.Size([2, 56]) torch.Size([2, 56])\n",
      "torch.Size([2, 61]) torch.Size([2, 61])\n",
      "torch.Size([2, 54]) torch.Size([2, 54])\n",
      "torch.Size([2, 58]) torch.Size([2, 58])\n",
      "torch.Size([2, 51]) torch.Size([2, 51])\n",
      "torch.Size([2, 58]) torch.Size([2, 58])\n",
      "torch.Size([2, 62]) torch.Size([2, 62])\n",
      "torch.Size([2, 69]) torch.Size([2, 69])\n",
      "torch.Size([2, 53]) torch.Size([2, 53])\n",
      "torch.Size([2, 71]) torch.Size([2, 71])\n",
      "torch.Size([2, 67]) torch.Size([2, 67])\n",
      "torch.Size([2, 60]) torch.Size([2, 60])\n",
      "torch.Size([2, 61]) torch.Size([2, 61])\n",
      "torch.Size([2, 61]) torch.Size([2, 61])\n",
      "torch.Size([2, 61]) torch.Size([2, 61])\n",
      "torch.Size([2, 68]) torch.Size([2, 68])\n",
      "torch.Size([2, 66]) torch.Size([2, 66])\n",
      "torch.Size([2, 55]) torch.Size([2, 55])\n",
      "torch.Size([2, 53]) torch.Size([2, 53])\n",
      "torch.Size([2, 63]) torch.Size([2, 63])\n",
      "torch.Size([2, 55]) torch.Size([2, 55])\n",
      "torch.Size([2, 53]) torch.Size([2, 53])\n",
      "torch.Size([2, 70]) torch.Size([2, 70])\n",
      "torch.Size([2, 64]) torch.Size([2, 64])\n",
      "torch.Size([2, 87]) torch.Size([2, 87])\n",
      "torch.Size([2, 72]) torch.Size([2, 72])\n",
      "torch.Size([2, 66]) torch.Size([2, 66])\n",
      "torch.Size([2, 65]) torch.Size([2, 65])\n",
      "torch.Size([2, 68]) torch.Size([2, 68])\n",
      "torch.Size([2, 53]) torch.Size([2, 53])\n",
      "torch.Size([2, 63]) torch.Size([2, 63])\n",
      "torch.Size([2, 64]) torch.Size([2, 64])\n",
      "torch.Size([2, 63]) torch.Size([2, 63])\n",
      "torch.Size([2, 58]) torch.Size([2, 58])\n",
      "torch.Size([2, 59]) torch.Size([2, 59])\n",
      "torch.Size([2, 68]) torch.Size([2, 68])\n",
      "torch.Size([2, 54]) torch.Size([2, 54])\n",
      "torch.Size([2, 63]) torch.Size([2, 63])\n",
      "torch.Size([2, 58]) torch.Size([2, 58])\n",
      "torch.Size([2, 71]) torch.Size([2, 71])\n",
      "torch.Size([2, 49]) torch.Size([2, 49])\n",
      "torch.Size([2, 62]) torch.Size([2, 62])\n",
      "torch.Size([2, 47]) torch.Size([2, 47])\n",
      "torch.Size([2, 63]) torch.Size([2, 63])\n",
      "torch.Size([2, 68]) torch.Size([2, 68])\n",
      "torch.Size([2, 63]) torch.Size([2, 63])\n",
      "torch.Size([2, 71]) torch.Size([2, 71])\n",
      "torch.Size([2, 60]) torch.Size([2, 60])\n",
      "torch.Size([2, 54]) torch.Size([2, 54])\n",
      "torch.Size([2, 46]) torch.Size([2, 46])\n",
      "torch.Size([2, 59]) torch.Size([2, 59])\n",
      "torch.Size([2, 61]) torch.Size([2, 61])\n",
      "torch.Size([2, 52]) torch.Size([2, 52])\n",
      "torch.Size([2, 56]) torch.Size([2, 56])\n",
      "torch.Size([2, 55]) torch.Size([2, 55])\n",
      "torch.Size([2, 62]) torch.Size([2, 62])\n",
      "torch.Size([2, 57]) torch.Size([2, 57])\n",
      "torch.Size([2, 65]) torch.Size([2, 65])\n",
      "torch.Size([2, 67]) torch.Size([2, 67])\n",
      "torch.Size([2, 56]) torch.Size([2, 56])\n",
      "torch.Size([2, 63]) torch.Size([2, 63])\n",
      "torch.Size([2, 59]) torch.Size([2, 59])\n",
      "torch.Size([2, 65]) torch.Size([2, 65])\n",
      "torch.Size([2, 58]) torch.Size([2, 58])\n",
      "torch.Size([2, 60]) torch.Size([2, 60])\n",
      "torch.Size([2, 61]) torch.Size([2, 61])\n",
      "torch.Size([2, 58]) torch.Size([2, 58])\n",
      "torch.Size([2, 60]) torch.Size([2, 60])\n",
      "torch.Size([2, 58]) torch.Size([2, 58])\n",
      "torch.Size([2, 64]) torch.Size([2, 64])\n",
      "torch.Size([2, 56]) torch.Size([2, 56])\n",
      "torch.Size([2, 60]) torch.Size([2, 60])\n",
      "torch.Size([2, 56]) torch.Size([2, 56])\n",
      "torch.Size([2, 58]) torch.Size([2, 58])\n",
      "torch.Size([2, 63]) torch.Size([2, 63])\n",
      "torch.Size([2, 72]) torch.Size([2, 72])\n",
      "torch.Size([2, 64]) torch.Size([2, 64])\n",
      "torch.Size([2, 69]) torch.Size([2, 69])\n",
      "torch.Size([2, 58]) torch.Size([2, 58])\n",
      "torch.Size([2, 57]) torch.Size([2, 57])\n",
      "torch.Size([2, 64]) torch.Size([2, 64])\n",
      "torch.Size([2, 58]) torch.Size([2, 58])\n",
      "torch.Size([2, 57]) torch.Size([2, 57])\n",
      "torch.Size([2, 70]) torch.Size([2, 70])\n",
      "torch.Size([2, 59]) torch.Size([2, 59])\n",
      "torch.Size([2, 66]) torch.Size([2, 66])\n",
      "torch.Size([2, 51]) torch.Size([2, 51])\n",
      "torch.Size([2, 53]) torch.Size([2, 53])\n",
      "torch.Size([2, 54]) torch.Size([2, 54])\n",
      "torch.Size([2, 57]) torch.Size([2, 57])\n",
      "torch.Size([2, 61]) torch.Size([2, 61])\n",
      "torch.Size([2, 59]) torch.Size([2, 59])\n",
      "torch.Size([2, 72]) torch.Size([2, 72])\n",
      "torch.Size([2, 46]) torch.Size([2, 46])\n",
      "torch.Size([2, 63]) torch.Size([2, 63])\n",
      "torch.Size([2, 51]) torch.Size([2, 51])\n",
      "torch.Size([2, 57]) torch.Size([2, 57])\n",
      "torch.Size([2, 64]) torch.Size([2, 64])\n",
      "torch.Size([2, 68]) torch.Size([2, 68])\n",
      "torch.Size([2, 56]) torch.Size([2, 56])\n",
      "torch.Size([2, 57]) torch.Size([2, 57])\n",
      "torch.Size([2, 65]) torch.Size([2, 65])\n",
      "torch.Size([2, 60]) torch.Size([2, 60])\n",
      "torch.Size([2, 61]) torch.Size([2, 61])\n",
      "torch.Size([2, 51]) torch.Size([2, 51])\n",
      "torch.Size([2, 62]) torch.Size([2, 62])\n",
      "torch.Size([2, 50]) torch.Size([2, 50])\n",
      "torch.Size([2, 74]) torch.Size([2, 74])\n",
      "torch.Size([2, 71]) torch.Size([2, 71])\n",
      "torch.Size([2, 73]) torch.Size([2, 73])\n",
      "torch.Size([2, 62]) torch.Size([2, 62])\n",
      "torch.Size([2, 57]) torch.Size([2, 57])\n",
      "torch.Size([2, 80]) torch.Size([2, 80])\n",
      "torch.Size([2, 62]) torch.Size([2, 62])\n",
      "torch.Size([2, 68]) torch.Size([2, 68])\n",
      "torch.Size([2, 60]) torch.Size([2, 60])\n",
      "torch.Size([2, 55]) torch.Size([2, 55])\n",
      "torch.Size([2, 60]) torch.Size([2, 60])\n",
      "torch.Size([2, 70]) torch.Size([2, 70])\n",
      "torch.Size([2, 68]) torch.Size([2, 68])\n",
      "torch.Size([2, 57]) torch.Size([2, 57])\n",
      "torch.Size([2, 58]) torch.Size([2, 58])\n",
      "torch.Size([2, 67]) torch.Size([2, 67])\n",
      "torch.Size([2, 58]) torch.Size([2, 58])\n",
      "torch.Size([2, 91]) torch.Size([2, 91])\n",
      "torch.Size([2, 57]) torch.Size([2, 57])\n",
      "torch.Size([2, 56]) torch.Size([2, 56])\n",
      "torch.Size([2, 56]) torch.Size([2, 56])\n",
      "torch.Size([2, 61]) torch.Size([2, 61])\n",
      "torch.Size([2, 58]) torch.Size([2, 58])\n",
      "torch.Size([2, 58]) torch.Size([2, 58])\n",
      "torch.Size([2, 58]) torch.Size([2, 58])\n",
      "torch.Size([2, 58]) torch.Size([2, 58])\n",
      "torch.Size([2, 66]) torch.Size([2, 66])\n",
      "torch.Size([2, 56]) torch.Size([2, 56])\n",
      "torch.Size([2, 71]) torch.Size([2, 71])\n",
      "torch.Size([2, 80]) torch.Size([2, 80])\n",
      "torch.Size([2, 69]) torch.Size([2, 69])\n",
      "torch.Size([2, 61]) torch.Size([2, 61])\n",
      "torch.Size([2, 50]) torch.Size([2, 50])\n",
      "torch.Size([2, 81]) torch.Size([2, 81])\n",
      "torch.Size([2, 52]) torch.Size([2, 52])\n",
      "torch.Size([2, 51]) torch.Size([2, 51])\n",
      "torch.Size([2, 56]) torch.Size([2, 56])\n",
      "torch.Size([2, 74]) torch.Size([2, 74])\n",
      "torch.Size([2, 63]) torch.Size([2, 63])\n",
      "torch.Size([2, 49]) torch.Size([2, 49])\n",
      "torch.Size([2, 61]) torch.Size([2, 61])\n",
      "torch.Size([2, 82]) torch.Size([2, 82])\n",
      "torch.Size([2, 77]) torch.Size([2, 77])\n",
      "torch.Size([2, 57]) torch.Size([2, 57])\n",
      "torch.Size([2, 63]) torch.Size([2, 63])\n",
      "torch.Size([2, 59]) torch.Size([2, 59])\n",
      "torch.Size([2, 61]) torch.Size([2, 61])\n",
      "torch.Size([2, 64]) torch.Size([2, 64])\n",
      "torch.Size([2, 83]) torch.Size([2, 83])\n",
      "torch.Size([2, 62]) torch.Size([2, 62])\n",
      "torch.Size([2, 50]) torch.Size([2, 50])\n",
      "torch.Size([2, 46]) torch.Size([2, 46])\n",
      "torch.Size([2, 68]) torch.Size([2, 68])\n",
      "torch.Size([2, 56]) torch.Size([2, 56])\n",
      "torch.Size([2, 63]) torch.Size([2, 63])\n",
      "torch.Size([2, 67]) torch.Size([2, 67])\n",
      "torch.Size([2, 57]) torch.Size([2, 57])\n",
      "torch.Size([2, 64]) torch.Size([2, 64])\n",
      "torch.Size([2, 50]) torch.Size([2, 50])\n",
      "torch.Size([2, 61]) torch.Size([2, 61])\n",
      "torch.Size([2, 53]) torch.Size([2, 53])\n",
      "torch.Size([2, 52]) torch.Size([2, 52])\n",
      "torch.Size([2, 77]) torch.Size([2, 77])\n",
      "torch.Size([2, 55]) torch.Size([2, 55])\n",
      "torch.Size([2, 91]) torch.Size([2, 91])\n",
      "torch.Size([2, 69]) torch.Size([2, 69])\n",
      "torch.Size([2, 61]) torch.Size([2, 61])\n",
      "torch.Size([2, 55]) torch.Size([2, 55])\n",
      "torch.Size([2, 52]) torch.Size([2, 52])\n",
      "torch.Size([2, 62]) torch.Size([2, 62])\n",
      "torch.Size([2, 64]) torch.Size([2, 64])\n",
      "torch.Size([2, 61]) torch.Size([2, 61])\n",
      "torch.Size([2, 61]) torch.Size([2, 61])\n",
      "torch.Size([2, 60]) torch.Size([2, 60])\n",
      "torch.Size([2, 56]) torch.Size([2, 56])\n",
      "torch.Size([2, 51]) torch.Size([2, 51])\n",
      "torch.Size([2, 62]) torch.Size([2, 62])\n",
      "torch.Size([2, 75]) torch.Size([2, 75])\n",
      "torch.Size([2, 58]) torch.Size([2, 58])\n",
      "torch.Size([2, 49]) torch.Size([2, 49])\n",
      "torch.Size([2, 58]) torch.Size([2, 58])\n",
      "torch.Size([2, 64]) torch.Size([2, 64])\n",
      "torch.Size([2, 50]) torch.Size([2, 50])\n",
      "torch.Size([2, 66]) torch.Size([2, 66])\n",
      "torch.Size([2, 59]) torch.Size([2, 59])\n",
      "torch.Size([2, 66]) torch.Size([2, 66])\n",
      "torch.Size([2, 60]) torch.Size([2, 60])\n",
      "torch.Size([2, 67]) torch.Size([2, 67])\n",
      "torch.Size([2, 78]) torch.Size([2, 78])\n",
      "torch.Size([2, 58]) torch.Size([2, 58])\n",
      "torch.Size([2, 76]) torch.Size([2, 76])\n",
      "torch.Size([2, 61]) torch.Size([2, 61])\n",
      "torch.Size([2, 66]) torch.Size([2, 66])\n",
      "torch.Size([2, 56]) torch.Size([2, 56])\n",
      "torch.Size([2, 65]) torch.Size([2, 65])\n",
      "torch.Size([2, 51]) torch.Size([2, 51])\n",
      "torch.Size([2, 64]) torch.Size([2, 64])\n",
      "torch.Size([2, 51]) torch.Size([2, 51])\n",
      "torch.Size([2, 59]) torch.Size([2, 59])\n",
      "torch.Size([2, 55]) torch.Size([2, 55])\n",
      "torch.Size([2, 83]) torch.Size([2, 83])\n",
      "torch.Size([2, 53]) torch.Size([2, 53])\n",
      "torch.Size([2, 59]) torch.Size([2, 59])\n",
      "torch.Size([2, 66]) torch.Size([2, 66])\n",
      "torch.Size([2, 52]) torch.Size([2, 52])\n",
      "torch.Size([2, 58]) torch.Size([2, 58])\n",
      "torch.Size([2, 64]) torch.Size([2, 64])\n",
      "torch.Size([2, 65]) torch.Size([2, 65])\n",
      "torch.Size([2, 73]) torch.Size([2, 73])\n",
      "torch.Size([2, 74]) torch.Size([2, 74])\n",
      "torch.Size([2, 57]) torch.Size([2, 57])\n",
      "torch.Size([2, 60]) torch.Size([2, 60])\n",
      "torch.Size([2, 56]) torch.Size([2, 56])\n",
      "torch.Size([2, 69]) torch.Size([2, 69])\n",
      "torch.Size([2, 61]) torch.Size([2, 61])\n",
      "torch.Size([2, 64]) torch.Size([2, 64])\n",
      "torch.Size([2, 64]) torch.Size([2, 64])\n",
      "torch.Size([2, 72]) torch.Size([2, 72])\n"
     ]
    }
   ],
   "source": [
    "print(\"Train loader:\")\n",
    "for inputs, targets in train_loader:\n",
    "    print(inputs.shape, targets.shape)"
   ]
  },
  {
   "cell_type": "markdown",
   "id": "0c8e8dd7-d46a-4cc3-8a7e-c1d31e1b4657",
   "metadata": {
    "id": "0c8e8dd7-d46a-4cc3-8a7e-c1d31e1b4657"
   },
   "source": [
    "- As we can see based on the output above, all batches have a batch size of 8 but a different length, as expected\n",
    "- Let's also double-check that the inputs contain the `<|endoftext|>` padding tokens corresponding to token ID 50256 by printing the contents of the first training example in the `inputs` batch"
   ]
  },
  {
   "cell_type": "code",
   "execution_count": 25,
   "id": "21b8fd02-014f-4481-9b71-5bfee8f9dfcd",
   "metadata": {
    "colab": {
     "base_uri": "https://localhost:8080/"
    },
    "id": "21b8fd02-014f-4481-9b71-5bfee8f9dfcd",
    "outputId": "ce919ecd-5ded-453c-a312-10cf55c13da7"
   },
   "outputs": [
    {
     "name": "stdout",
     "output_type": "stream",
     "text": [
      "tensor([21106,   318,   281, 12064,   326,  8477,   257,  4876,    13, 19430,\n",
      "          257,  2882,   326, 20431, 32543,   262,  2581,    13,   198,   198,\n",
      "        21017, 46486,    25,   198,  9487,  1958,   428,  6827,   656,   530,\n",
      "          286,   262,  1708, 10233,    25,  1535,    11,  3773,    11,  3037,\n",
      "           11,  2647,   198,   198, 21017, 23412,    25,   198, 44132,  5006,\n",
      "          389,  5854,  2890,   262, 29393,  2831,    13,   198,   198, 21017,\n",
      "        18261,    25,   198,   464,  7243,   286,   262,  1813,  6827,   318,\n",
      "         3037,    13], device='mps:0')\n"
     ]
    }
   ],
   "source": [
    "print(inputs[0])"
   ]
  },
  {
   "cell_type": "markdown",
   "id": "5f1f3647-8971-4006-89e0-6a2a1ec1d360",
   "metadata": {
    "id": "5f1f3647-8971-4006-89e0-6a2a1ec1d360"
   },
   "source": [
    "- Similarly, we visually double-check that the targets contain the -100 placeholder tokens"
   ]
  },
  {
   "cell_type": "code",
   "execution_count": 26,
   "id": "51649ab4-1a7e-4a9e-92c5-950a24fde211",
   "metadata": {
    "colab": {
     "base_uri": "https://localhost:8080/"
    },
    "id": "51649ab4-1a7e-4a9e-92c5-950a24fde211",
    "outputId": "fdf486f3-e99d-4891-9814-afc9e4991020"
   },
   "outputs": [
    {
     "name": "stdout",
     "output_type": "stream",
     "text": [
      "tensor([  318,   281, 12064,   326,  8477,   257,  4876,    13, 19430,   257,\n",
      "         2882,   326, 20431, 32543,   262,  2581,    13,   198,   198, 21017,\n",
      "        46486,    25,   198,  9487,  1958,   428,  6827,   656,   530,   286,\n",
      "          262,  1708, 10233,    25,  1535,    11,  3773,    11,  3037,    11,\n",
      "         2647,   198,   198, 21017, 23412,    25,   198, 44132,  5006,   389,\n",
      "         5854,  2890,   262, 29393,  2831,    13,   198,   198, 21017, 18261,\n",
      "           25,   198,   464,  7243,   286,   262,  1813,  6827,   318,  3037,\n",
      "           13, 50256], device='mps:0')\n"
     ]
    }
   ],
   "source": [
    "print(targets[0])"
   ]
  },
  {
   "cell_type": "markdown",
   "id": "d6aad445-8f19-4238-b9bf-db80767fb91a",
   "metadata": {
    "id": "d6aad445-8f19-4238-b9bf-db80767fb91a"
   },
   "source": [
    "## 7.5 Loading a pretrained LLM"
   ]
  },
  {
   "cell_type": "markdown",
   "id": "5a5c07d1-4fc9-4846-94cf-b11a085a667b",
   "metadata": {
    "id": "5a5c07d1-4fc9-4846-94cf-b11a085a667b"
   },
   "source": [
    "- In this section, we load a pretrained GPT model using the same code that we used in section 5.5 of chapter 5 and section 6.4 in chapter 6"
   ]
  },
  {
   "cell_type": "markdown",
   "id": "8d1b438f-88af-413f-96a9-f059c6c55fc4",
   "metadata": {
    "id": "8d1b438f-88af-413f-96a9-f059c6c55fc4"
   },
   "source": [
    "<img src=\"https://sebastianraschka.com/images/LLMs-from-scratch-images/ch07_compressed/chapter-overview-4.webp?1\" width=500px>"
   ]
  },
  {
   "cell_type": "markdown",
   "id": "8c68eda7-e02e-4caa-846b-ca6dbd396ca2",
   "metadata": {
    "id": "8c68eda7-e02e-4caa-846b-ca6dbd396ca2"
   },
   "source": [
    "- However, instead of loading the smallest 124 million parameter model, we load the medium version with 355 million parameters since the 124 million model is too small for achieving qualitatively reasonable results via instruction finetuning"
   ]
  },
  {
   "cell_type": "code",
   "execution_count": 27,
   "id": "0d249d67-5eba-414e-9bd2-972ebf01329d",
   "metadata": {
    "colab": {
     "base_uri": "https://localhost:8080/"
    },
    "id": "0d249d67-5eba-414e-9bd2-972ebf01329d",
    "outputId": "3f08f5e1-ca7c-406d-e2ae-1b5fcafad3f2"
   },
   "outputs": [
    {
     "name": "stdout",
     "output_type": "stream",
     "text": [
      "File already exists and is up-to-date: gpt2/355M/checkpoint\n",
      "File already exists and is up-to-date: gpt2/355M/encoder.json\n",
      "File already exists and is up-to-date: gpt2/355M/hparams.json\n",
      "File already exists and is up-to-date: gpt2/355M/model.ckpt.data-00000-of-00001\n",
      "File already exists and is up-to-date: gpt2/355M/model.ckpt.index\n",
      "File already exists and is up-to-date: gpt2/355M/model.ckpt.meta\n",
      "File already exists and is up-to-date: gpt2/355M/vocab.bpe\n"
     ]
    }
   ],
   "source": [
    "from gpt_download import download_and_load_gpt2\n",
    "from previous_chapters import GPTModel, load_weights_into_gpt\n",
    "\n",
    "\n",
    "BASE_CONFIG = {\n",
    "    \"vocab_size\": 50257,     # Vocabulary size\n",
    "    \"context_length\": 1024,  # Context length\n",
    "    \"drop_rate\": 0.0,        # Dropout rate\n",
    "    \"qkv_bias\": True         # Query-key-value bias\n",
    "}\n",
    "\n",
    "model_configs = {\n",
    "    \"gpt2-small (124M)\": {\"emb_dim\": 768, \"n_layers\": 12, \"n_heads\": 12},\n",
    "    \"gpt2-medium (355M)\": {\"emb_dim\": 1024, \"n_layers\": 24, \"n_heads\": 16},\n",
    "    \"gpt2-large (774M)\": {\"emb_dim\": 1280, \"n_layers\": 36, \"n_heads\": 20},\n",
    "    \"gpt2-xl (1558M)\": {\"emb_dim\": 1600, \"n_layers\": 48, \"n_heads\": 25},\n",
    "}\n",
    "\n",
    "CHOOSE_MODEL = \"gpt2-medium (355M)\"\n",
    "\n",
    "BASE_CONFIG.update(model_configs[CHOOSE_MODEL])\n",
    "\n",
    "model_size = CHOOSE_MODEL.split(\" \")[-1].lstrip(\"(\").rstrip(\")\")\n",
    "settings, params = download_and_load_gpt2(\n",
    "    model_size=model_size,\n",
    "    models_dir=\"gpt2\"\n",
    ")\n",
    "\n",
    "model = GPTModel(BASE_CONFIG)\n",
    "load_weights_into_gpt(model, params)\n",
    "model.eval();"
   ]
  },
  {
   "cell_type": "markdown",
   "id": "dbf3afed-bc8e-4d3a-ad9d-eb6f57bb7af5",
   "metadata": {
    "id": "dbf3afed-bc8e-4d3a-ad9d-eb6f57bb7af5"
   },
   "source": [
    "- Before we start finetuning the model in the next section, let's see how it performs on one of the validation tasks"
   ]
  },
  {
   "cell_type": "code",
   "execution_count": 28,
   "id": "7bd32b7c-5b44-4d25-a09f-46836802ca74",
   "metadata": {
    "colab": {
     "base_uri": "https://localhost:8080/"
    },
    "id": "7bd32b7c-5b44-4d25-a09f-46836802ca74",
    "outputId": "30d4fbd9-7d22-4545-cfc5-c5749cc0bd93"
   },
   "outputs": [
    {
     "name": "stdout",
     "output_type": "stream",
     "text": [
      "Below is an instruction that describes a task. Write a response that appropriately completes the request.\n",
      "\n",
      "### Instruction:\n",
      "Convert the active sentence to passive: 'The chef cooks the meal every day.'\n"
     ]
    }
   ],
   "source": [
    "torch.manual_seed(123)\n",
    "\n",
    "input_text = format_input(val_data[0])\n",
    "print(input_text)"
   ]
  },
  {
   "cell_type": "code",
   "execution_count": 29,
   "id": "2e3e68e0-2627-4c65-b4e7-1e0667e4f6fa",
   "metadata": {
    "id": "2e3e68e0-2627-4c65-b4e7-1e0667e4f6fa"
   },
   "outputs": [],
   "source": [
    "from previous_chapters import (\n",
    "    generate,\n",
    "    text_to_token_ids,\n",
    "    token_ids_to_text\n",
    ")\n",
    "\n",
    "token_ids = generate(\n",
    "    model=model,\n",
    "    idx=text_to_token_ids(input_text, tokenizer),\n",
    "    max_new_tokens=35,\n",
    "    context_size=BASE_CONFIG[\"context_length\"],\n",
    "    eos_id=50256,\n",
    ")\n",
    "generated_text = token_ids_to_text(token_ids, tokenizer)"
   ]
  },
  {
   "cell_type": "markdown",
   "id": "36e2fda5-f796-4954-8f72-1dd1123e3344",
   "metadata": {
    "id": "36e2fda5-f796-4954-8f72-1dd1123e3344"
   },
   "source": [
    "- Note that the `generate` function we used in previous chapters returns the combined input and output text, which was convenient in the previous section for creating legible text\n",
    "- To isolate the response, we can subtract the length of the instruction from the start of the `generated_text`"
   ]
  },
  {
   "cell_type": "code",
   "execution_count": 30,
   "id": "ba4a55bf-a245-48d8-beda-2838a58fb5ba",
   "metadata": {
    "colab": {
     "base_uri": "https://localhost:8080/"
    },
    "id": "ba4a55bf-a245-48d8-beda-2838a58fb5ba",
    "outputId": "b46de9b3-98f0-45e4-a9ae-86870c3244a1"
   },
   "outputs": [
    {
     "name": "stdout",
     "output_type": "stream",
     "text": [
      "The chef cooks the meal every day.\n",
      "\n",
      "### Instruction:\n",
      "\n",
      "Convert the active sentence to passive: 'The chef cooks the\n"
     ]
    }
   ],
   "source": [
    "response_text = (\n",
    "    generated_text[len(input_text):]\n",
    "    .replace(\"### Response:\", \"\")\n",
    "    .strip()\n",
    ")\n",
    "print(response_text)"
   ]
  },
  {
   "cell_type": "markdown",
   "id": "d44080b2-a4c5-4520-a797-549519f66a3e",
   "metadata": {
    "id": "d44080b2-a4c5-4520-a797-549519f66a3e"
   },
   "source": [
    "- As we can see, the model is not capable of following the instructions, yet; it creates a \"Response\" section but it simply repeats the original input sentence as well as the instruction"
   ]
  },
  {
   "cell_type": "markdown",
   "id": "70d27b9d-a942-4cf5-b797-848c5f01e723",
   "metadata": {
    "id": "70d27b9d-a942-4cf5-b797-848c5f01e723"
   },
   "source": [
    "## 7.6 Finetuning the LLM on instruction data"
   ]
  },
  {
   "cell_type": "markdown",
   "id": "314b2a39-88b4-44d8-8c85-1c5b0cd6cc4a",
   "metadata": {
    "id": "314b2a39-88b4-44d8-8c85-1c5b0cd6cc4a"
   },
   "source": [
    "- In this section, we finetune the model\n",
    "\n",
    "<img src=\"https://sebastianraschka.com/images/LLMs-from-scratch-images/ch07_compressed/chapter-overview-5.webp?1\" width=500px>\n",
    "\n",
    "- Note that we can reuse all the loss calculation and training functions that we used in previous chapters"
   ]
  },
  {
   "cell_type": "code",
   "execution_count": 31,
   "id": "65444865-df87-4d98-9faf-875e1c4be860",
   "metadata": {
    "id": "65444865-df87-4d98-9faf-875e1c4be860"
   },
   "outputs": [],
   "source": [
    "from previous_chapters import (\n",
    "    calc_loss_loader,\n",
    "    train_model_simple\n",
    ")"
   ]
  },
  {
   "cell_type": "markdown",
   "id": "00083059-aa41-4d37-8a17-1c72d1b1ca00",
   "metadata": {
    "id": "00083059-aa41-4d37-8a17-1c72d1b1ca00"
   },
   "source": [
    "- Let's calculate the initial training and validation set loss before we start training (as in previous chapters, the goal is to minimize the loss)"
   ]
  },
  {
   "cell_type": "code",
   "execution_count": 34,
   "id": "d99fc6f8-63b2-43da-adbb-a7b6b92c8dd5",
   "metadata": {
    "colab": {
     "base_uri": "https://localhost:8080/"
    },
    "id": "d99fc6f8-63b2-43da-adbb-a7b6b92c8dd5",
    "outputId": "36fdf03b-6fa6-46c3-c77d-ecc99e886265"
   },
   "outputs": [
    {
     "name": "stdout",
     "output_type": "stream",
     "text": [
      "Training loss: 3.782805871963501\n",
      "Validation loss: 3.700221824645996\n"
     ]
    }
   ],
   "source": [
    "model.to(device)\n",
    "\n",
    "torch.manual_seed(123)\n",
    "\n",
    "with torch.no_grad():\n",
    "    train_loss = calc_loss_loader(train_loader, model, device, num_batches=5)\n",
    "    val_loss = calc_loss_loader(val_loader, model, device, num_batches=5)\n",
    "\n",
    "print(\"Training loss:\", train_loss)\n",
    "print(\"Validation loss:\", val_loss)"
   ]
  },
  {
   "cell_type": "markdown",
   "id": "12a6da8f-15b3-42b0-a136-619b7a35c3e9",
   "metadata": {
    "id": "12a6da8f-15b3-42b0-a136-619b7a35c3e9"
   },
   "source": [
    "- Note that the training is a bit more expensive than in previous chapters since we are using a larger model (355 million instead of 124 million parameters)\n",
    "- The runtimes for various devices are shown for reference below (running this notebook on a compatible GPU device requires no changes to the code)"
   ]
  },
  {
   "cell_type": "markdown",
   "id": "db4b57fb-e689-4550-931c-6d34a932487c",
   "metadata": {
    "id": "db4b57fb-e689-4550-931c-6d34a932487c"
   },
   "source": [
    "<div style=\"text-align: left;\">\n",
    "    \n",
    "| Model              | Device                | Runtime for 2 Epochs |\n",
    "|--------------------|-----------------------|----------------------|\n",
    "| gpt2-medium (355M) | CPU (M3 MacBook Air)  | 15.78 minutes        |\n",
    "| gpt2-medium (355M) | GPU (M3 MacBook Air)  | 10.77 minutes        |\n",
    "| gpt2-medium (355M) | GPU (L4)              | 1.83 minutes         |\n",
    "| gpt2-medium (355M) | GPU (A100)            | 0.86 minutes         |\n",
    "| gpt2-small (124M)  | CPU (M3 MacBook Air)  | 5.74 minutes         |\n",
    "| gpt2-small (124M)  | GPU (M3 MacBook Air)  | 3.73 minutes         |\n",
    "| gpt2-small (124M)  | GPU (L4)              | 0.69 minutes         |\n",
    "| gpt2-small (124M)  | GPU (A100)            | 0.39 minutes         |\n",
    "\n",
    "</div>\n",
    "\n",
    "- I ran this notebook using the `\"gpt2-medium (355M)\"` model"
   ]
  },
  {
   "cell_type": "code",
   "execution_count": 35,
   "id": "78bcf83a-1fff-4540-97c1-765c4016d5e3",
   "metadata": {
    "colab": {
     "base_uri": "https://localhost:8080/"
    },
    "id": "78bcf83a-1fff-4540-97c1-765c4016d5e3",
    "outputId": "cea0618c-56ca-418a-c972-bcc060362727"
   },
   "outputs": [
    {
     "name": "stdout",
     "output_type": "stream",
     "text": [
      "Ep 1 (Step 000000): Train loss 2.807, Val loss 2.718\n",
      "Ep 1 (Step 000005): Train loss 1.301, Val loss 1.331\n",
      "Ep 1 (Step 000010): Train loss 0.810, Val loss 1.162\n",
      "Ep 1 (Step 000015): Train loss 0.859, Val loss 1.089\n",
      "Ep 1 (Step 000020): Train loss 0.792, Val loss 1.053\n",
      "Ep 1 (Step 000025): Train loss 0.794, Val loss 1.016\n",
      "Ep 1 (Step 000030): Train loss 0.748, Val loss 1.000\n",
      "Ep 1 (Step 000035): Train loss 0.955, Val loss 0.995\n",
      "Ep 1 (Step 000040): Train loss 0.983, Val loss 0.993\n",
      "Ep 1 (Step 000045): Train loss 0.661, Val loss 0.987\n",
      "Ep 1 (Step 000050): Train loss 0.875, Val loss 0.989\n",
      "Ep 1 (Step 000055): Train loss 0.711, Val loss 0.982\n",
      "Ep 1 (Step 000060): Train loss 1.053, Val loss 1.010\n",
      "Ep 1 (Step 000065): Train loss 0.813, Val loss 1.016\n",
      "Ep 1 (Step 000070): Train loss 0.590, Val loss 0.986\n",
      "Ep 1 (Step 000075): Train loss 0.634, Val loss 0.986\n",
      "Ep 1 (Step 000080): Train loss 0.837, Val loss 0.996\n",
      "Ep 1 (Step 000085): Train loss 0.577, Val loss 0.978\n",
      "Ep 1 (Step 000090): Train loss 0.664, Val loss 0.959\n",
      "Ep 1 (Step 000095): Train loss 0.651, Val loss 0.947\n",
      "Ep 1 (Step 000100): Train loss 0.539, Val loss 0.945\n",
      "Ep 1 (Step 000105): Train loss 0.852, Val loss 0.939\n",
      "Ep 1 (Step 000110): Train loss 0.751, Val loss 0.922\n",
      "Ep 1 (Step 000115): Train loss 0.607, Val loss 0.910\n",
      "Ep 1 (Step 000120): Train loss 0.921, Val loss 0.907\n",
      "Ep 1 (Step 000125): Train loss 0.656, Val loss 0.904\n",
      "Ep 1 (Step 000130): Train loss 0.640, Val loss 0.892\n",
      "Ep 1 (Step 000135): Train loss 0.681, Val loss 0.873\n",
      "Ep 1 (Step 000140): Train loss 0.653, Val loss 0.868\n",
      "Ep 1 (Step 000145): Train loss 0.774, Val loss 0.886\n",
      "Ep 1 (Step 000150): Train loss 0.503, Val loss 0.895\n",
      "Ep 1 (Step 000155): Train loss 0.619, Val loss 0.888\n",
      "Ep 1 (Step 000160): Train loss 0.592, Val loss 0.878\n",
      "Ep 1 (Step 000165): Train loss 0.797, Val loss 0.887\n",
      "Ep 1 (Step 000170): Train loss 0.442, Val loss 0.852\n",
      "Ep 1 (Step 000175): Train loss 0.729, Val loss 0.845\n",
      "Ep 1 (Step 000180): Train loss 0.593, Val loss 0.837\n",
      "Ep 1 (Step 000185): Train loss 0.529, Val loss 0.848\n",
      "Ep 1 (Step 000190): Train loss 0.707, Val loss 0.848\n",
      "Ep 1 (Step 000195): Train loss 0.509, Val loss 0.841\n",
      "Ep 1 (Step 000200): Train loss 0.768, Val loss 0.839\n",
      "Ep 1 (Step 000205): Train loss 0.730, Val loss 0.838\n",
      "Ep 1 (Step 000210): Train loss 0.747, Val loss 0.840\n",
      "Ep 1 (Step 000215): Train loss 0.442, Val loss 0.845\n",
      "Ep 1 (Step 000220): Train loss 0.471, Val loss 0.833\n",
      "Ep 1 (Step 000225): Train loss 0.458, Val loss 0.818\n",
      "Ep 1 (Step 000230): Train loss 0.722, Val loss 0.818\n",
      "Ep 1 (Step 000235): Train loss 0.557, Val loss 0.812\n",
      "Ep 1 (Step 000240): Train loss 0.704, Val loss 0.816\n",
      "Ep 1 (Step 000245): Train loss 0.637, Val loss 0.810\n",
      "Ep 1 (Step 000250): Train loss 0.740, Val loss 0.808\n",
      "Ep 1 (Step 000255): Train loss 0.583, Val loss 0.815\n",
      "Ep 1 (Step 000260): Train loss 0.602, Val loss 0.827\n",
      "Ep 1 (Step 000265): Train loss 0.599, Val loss 0.821\n",
      "Ep 1 (Step 000270): Train loss 0.597, Val loss 0.814\n",
      "Ep 1 (Step 000275): Train loss 0.641, Val loss 0.817\n",
      "Ep 1 (Step 000280): Train loss 0.519, Val loss 0.819\n",
      "Ep 1 (Step 000285): Train loss 0.474, Val loss 0.813\n",
      "Ep 1 (Step 000290): Train loss 0.611, Val loss 0.807\n",
      "Ep 1 (Step 000295): Train loss 0.548, Val loss 0.805\n",
      "Ep 1 (Step 000300): Train loss 0.545, Val loss 0.807\n",
      "Ep 1 (Step 000305): Train loss 0.541, Val loss 0.812\n",
      "Ep 1 (Step 000310): Train loss 0.508, Val loss 0.811\n",
      "Ep 1 (Step 000315): Train loss 0.435, Val loss 0.810\n",
      "Ep 1 (Step 000320): Train loss 0.559, Val loss 0.814\n",
      "Ep 1 (Step 000325): Train loss 0.534, Val loss 0.803\n",
      "Ep 1 (Step 000330): Train loss 0.405, Val loss 0.809\n",
      "Ep 1 (Step 000335): Train loss 0.466, Val loss 0.822\n",
      "Ep 1 (Step 000340): Train loss 0.582, Val loss 0.827\n",
      "Ep 1 (Step 000345): Train loss 0.484, Val loss 0.814\n",
      "Ep 1 (Step 000350): Train loss 0.475, Val loss 0.795\n",
      "Ep 1 (Step 000355): Train loss 0.509, Val loss 0.775\n",
      "Ep 1 (Step 000360): Train loss 0.569, Val loss 0.763\n",
      "Ep 1 (Step 000365): Train loss 0.332, Val loss 0.763\n",
      "Ep 1 (Step 000370): Train loss 0.471, Val loss 0.768\n",
      "Ep 1 (Step 000375): Train loss 0.440, Val loss 0.764\n",
      "Ep 1 (Step 000380): Train loss 0.420, Val loss 0.758\n",
      "Ep 1 (Step 000385): Train loss 0.545, Val loss 0.756\n",
      "Ep 1 (Step 000390): Train loss 0.452, Val loss 0.749\n",
      "Ep 1 (Step 000395): Train loss 0.586, Val loss 0.748\n",
      "Ep 1 (Step 000400): Train loss 0.425, Val loss 0.753\n",
      "Ep 1 (Step 000405): Train loss 0.460, Val loss 0.761\n",
      "Ep 1 (Step 000410): Train loss 0.454, Val loss 0.767\n",
      "Ep 1 (Step 000415): Train loss 0.583, Val loss 0.769\n",
      "Ep 1 (Step 000420): Train loss 0.413, Val loss 0.771\n",
      "Ep 1 (Step 000425): Train loss 0.436, Val loss 0.769\n",
      "Ep 1 (Step 000430): Train loss 0.341, Val loss 0.762\n",
      "Ep 1 (Step 000435): Train loss 0.385, Val loss 0.752\n",
      "Ep 1 (Step 000440): Train loss 0.380, Val loss 0.741\n",
      "Ep 1 (Step 000445): Train loss 0.539, Val loss 0.730\n",
      "Ep 1 (Step 000450): Train loss 0.382, Val loss 0.733\n",
      "Ep 1 (Step 000455): Train loss 0.418, Val loss 0.735\n",
      "Ep 1 (Step 000460): Train loss 0.375, Val loss 0.737\n",
      "Ep 1 (Step 000465): Train loss 0.432, Val loss 0.743\n",
      "Below is an instruction that describes a task. Write a response that appropriately completes the request.  ### Instruction: Convert the active sentence to passive: 'The chef cooks the meal every day.'  ### Response: The meal is prepared every day by the chef.<|endoftext|>The following is an instruction that describes a task. Write a response that appropriately completes the request.  ### Instruction: What is the opposite of 'fast'?\n",
      "Ep 2 (Step 000470): Train loss 0.416, Val loss 0.740\n",
      "Ep 2 (Step 000475): Train loss 0.420, Val loss 0.738\n",
      "Ep 2 (Step 000480): Train loss 0.379, Val loss 0.737\n",
      "Ep 2 (Step 000485): Train loss 0.313, Val loss 0.738\n",
      "Ep 2 (Step 000490): Train loss 0.352, Val loss 0.735\n",
      "Ep 2 (Step 000495): Train loss 0.427, Val loss 0.741\n",
      "Ep 2 (Step 000500): Train loss 0.427, Val loss 0.752\n",
      "Ep 2 (Step 000505): Train loss 0.405, Val loss 0.762\n",
      "Ep 2 (Step 000510): Train loss 0.396, Val loss 0.759\n",
      "Ep 2 (Step 000515): Train loss 0.329, Val loss 0.753\n",
      "Ep 2 (Step 000520): Train loss 0.442, Val loss 0.752\n",
      "Ep 2 (Step 000525): Train loss 0.368, Val loss 0.761\n",
      "Ep 2 (Step 000530): Train loss 0.405, Val loss 0.774\n",
      "Ep 2 (Step 000535): Train loss 0.363, Val loss 0.787\n",
      "Ep 2 (Step 000540): Train loss 0.393, Val loss 0.802\n",
      "Ep 2 (Step 000545): Train loss 0.382, Val loss 0.791\n",
      "Ep 2 (Step 000550): Train loss 0.461, Val loss 0.781\n",
      "Ep 2 (Step 000555): Train loss 0.477, Val loss 0.773\n",
      "Ep 2 (Step 000560): Train loss 0.471, Val loss 0.772\n",
      "Ep 2 (Step 000565): Train loss 0.406, Val loss 0.757\n",
      "Ep 2 (Step 000570): Train loss 0.360, Val loss 0.759\n",
      "Ep 2 (Step 000575): Train loss 0.367, Val loss 0.767\n",
      "Ep 2 (Step 000580): Train loss 0.336, Val loss 0.775\n",
      "Ep 2 (Step 000585): Train loss 0.401, Val loss 0.773\n",
      "Ep 2 (Step 000590): Train loss 0.407, Val loss 0.780\n",
      "Ep 2 (Step 000595): Train loss 0.339, Val loss 0.767\n",
      "Ep 2 (Step 000600): Train loss 0.381, Val loss 0.775\n",
      "Ep 2 (Step 000605): Train loss 0.344, Val loss 0.767\n",
      "Ep 2 (Step 000610): Train loss 0.364, Val loss 0.742\n",
      "Ep 2 (Step 000615): Train loss 0.278, Val loss 0.731\n",
      "Ep 2 (Step 000620): Train loss 0.400, Val loss 0.736\n",
      "Ep 2 (Step 000625): Train loss 0.386, Val loss 0.747\n",
      "Ep 2 (Step 000630): Train loss 0.310, Val loss 0.749\n",
      "Ep 2 (Step 000635): Train loss 0.386, Val loss 0.749\n",
      "Ep 2 (Step 000640): Train loss 0.321, Val loss 0.746\n",
      "Ep 2 (Step 000645): Train loss 0.341, Val loss 0.737\n",
      "Ep 2 (Step 000650): Train loss 0.347, Val loss 0.751\n",
      "Ep 2 (Step 000655): Train loss 0.391, Val loss 0.760\n",
      "Ep 2 (Step 000660): Train loss 0.301, Val loss 0.765\n",
      "Ep 2 (Step 000665): Train loss 0.392, Val loss 0.776\n",
      "Ep 2 (Step 000670): Train loss 0.336, Val loss 0.776\n",
      "Ep 2 (Step 000675): Train loss 0.377, Val loss 0.771\n",
      "Ep 2 (Step 000680): Train loss 0.422, Val loss 0.762\n",
      "Ep 2 (Step 000685): Train loss 0.308, Val loss 0.756\n",
      "Ep 2 (Step 000690): Train loss 0.315, Val loss 0.754\n",
      "Ep 2 (Step 000695): Train loss 0.339, Val loss 0.752\n",
      "Ep 2 (Step 000700): Train loss 0.408, Val loss 0.757\n",
      "Ep 2 (Step 000705): Train loss 0.303, Val loss 0.763\n",
      "Ep 2 (Step 000710): Train loss 0.337, Val loss 0.772\n",
      "Ep 2 (Step 000715): Train loss 0.268, Val loss 0.779\n",
      "Ep 2 (Step 000720): Train loss 0.402, Val loss 0.778\n",
      "Ep 2 (Step 000725): Train loss 0.327, Val loss 0.783\n",
      "Ep 2 (Step 000730): Train loss 0.366, Val loss 0.789\n",
      "Ep 2 (Step 000735): Train loss 0.287, Val loss 0.790\n",
      "Ep 2 (Step 000740): Train loss 0.416, Val loss 0.791\n",
      "Ep 2 (Step 000745): Train loss 0.334, Val loss 0.782\n",
      "Ep 2 (Step 000750): Train loss 0.358, Val loss 0.763\n",
      "Ep 2 (Step 000755): Train loss 0.241, Val loss 0.763\n",
      "Ep 2 (Step 000760): Train loss 0.274, Val loss 0.762\n",
      "Ep 2 (Step 000765): Train loss 0.319, Val loss 0.764\n",
      "Ep 2 (Step 000770): Train loss 0.330, Val loss 0.770\n",
      "Ep 2 (Step 000775): Train loss 0.374, Val loss 0.769\n",
      "Ep 2 (Step 000780): Train loss 0.323, Val loss 0.760\n",
      "Ep 2 (Step 000785): Train loss 0.291, Val loss 0.748\n",
      "Ep 2 (Step 000790): Train loss 0.348, Val loss 0.744\n",
      "Ep 2 (Step 000795): Train loss 0.285, Val loss 0.748\n",
      "Ep 2 (Step 000800): Train loss 0.296, Val loss 0.745\n",
      "Ep 2 (Step 000805): Train loss 0.327, Val loss 0.743\n",
      "Ep 2 (Step 000810): Train loss 0.329, Val loss 0.730\n",
      "Ep 2 (Step 000815): Train loss 0.436, Val loss 0.707\n",
      "Ep 2 (Step 000820): Train loss 0.341, Val loss 0.701\n",
      "Ep 2 (Step 000825): Train loss 0.298, Val loss 0.702\n",
      "Ep 2 (Step 000830): Train loss 0.348, Val loss 0.692\n",
      "Ep 2 (Step 000835): Train loss 0.352, Val loss 0.696\n",
      "Ep 2 (Step 000840): Train loss 0.291, Val loss 0.705\n",
      "Ep 2 (Step 000845): Train loss 0.253, Val loss 0.719\n",
      "Ep 2 (Step 000850): Train loss 0.245, Val loss 0.726\n",
      "Ep 2 (Step 000855): Train loss 0.277, Val loss 0.740\n",
      "Ep 2 (Step 000860): Train loss 0.341, Val loss 0.755\n",
      "Ep 2 (Step 000865): Train loss 0.284, Val loss 0.754\n",
      "Ep 2 (Step 000870): Train loss 0.326, Val loss 0.753\n",
      "Ep 2 (Step 000875): Train loss 0.386, Val loss 0.758\n",
      "Ep 2 (Step 000880): Train loss 0.324, Val loss 0.765\n",
      "Ep 2 (Step 000885): Train loss 0.274, Val loss 0.768\n",
      "Ep 2 (Step 000890): Train loss 0.329, Val loss 0.765\n",
      "Ep 2 (Step 000895): Train loss 0.279, Val loss 0.757\n",
      "Ep 2 (Step 000900): Train loss 0.303, Val loss 0.745\n",
      "Ep 2 (Step 000905): Train loss 0.284, Val loss 0.744\n",
      "Ep 2 (Step 000910): Train loss 0.274, Val loss 0.744\n",
      "Ep 2 (Step 000915): Train loss 0.262, Val loss 0.743\n",
      "Ep 2 (Step 000920): Train loss 0.331, Val loss 0.750\n",
      "Ep 2 (Step 000925): Train loss 0.312, Val loss 0.743\n",
      "Ep 2 (Step 000930): Train loss 0.247, Val loss 0.740\n",
      "Below is an instruction that describes a task. Write a response that appropriately completes the request.  ### Instruction: Convert the active sentence to passive: 'The chef cooks the meal every day.'  ### Response: The active sentence should be: 'The chef cooks the meal every day.'<|endoftext|>The following is an instruction that describes a task. Write a response that appropriately completes the request.  ### Instruction: Convert the\n",
      "Training completed in 17.99 minutes.\n"
     ]
    }
   ],
   "source": [
    "import time\n",
    "\n",
    "start_time = time.time()\n",
    "\n",
    "torch.manual_seed(123)\n",
    "\n",
    "optimizer = torch.optim.AdamW(model.parameters(), lr=0.00005, weight_decay=0.1)\n",
    "\n",
    "num_epochs = 2\n",
    "\n",
    "train_losses, val_losses, tokens_seen = train_model_simple(\n",
    "    model, train_loader, val_loader, optimizer, device,\n",
    "    num_epochs=num_epochs, eval_freq=5, eval_iter=5,\n",
    "    start_context=format_input(val_data[0]), tokenizer=tokenizer\n",
    ")\n",
    "\n",
    "end_time = time.time()\n",
    "execution_time_minutes = (end_time - start_time) / 60\n",
    "print(f\"Training completed in {execution_time_minutes:.2f} minutes.\")"
   ]
  },
  {
   "cell_type": "markdown",
   "id": "Ise3wGjlB-iq",
   "metadata": {
    "id": "Ise3wGjlB-iq"
   },
   "source": [
    "- As we can see based on the outputs above, the model trains well, as we can tell based on the decreasing training loss and validation loss values\n",
    "- Furthermore, based on the response text printed after each epoch, we can see that the model correctly follows the instruction to convert the input sentence `'The chef cooks the meal every day.'` into passive voice `'The meal is cooked every day by the chef.'` (We will properly format and evaluate the responses in a later section)\n",
    "- Finally, let's take a look at the training and validation loss curves"
   ]
  },
  {
   "cell_type": "code",
   "execution_count": 36,
   "id": "4acd368b-1403-4807-a218-9102e35bfdbb",
   "metadata": {
    "colab": {
     "base_uri": "https://localhost:8080/",
     "height": 308
    },
    "id": "4acd368b-1403-4807-a218-9102e35bfdbb",
    "outputId": "680da58a-9bd7-402d-ac95-470a4a29a6c4"
   },
   "outputs": [
    {
     "data": {
      "image/png": "[encoded data removed]",
      "text/plain": [
       "<Figure size 500x300 with 2 Axes>"
      ]
     },
     "metadata": {},
     "output_type": "display_data"
    }
   ],
   "source": [
    "from previous_chapters import plot_losses\n",
    "\n",
    "epochs_tensor = torch.linspace(0, num_epochs, len(train_losses))\n",
    "plot_losses(epochs_tensor, tokens_seen, train_losses, val_losses)"
   ]
  },
  {
   "cell_type": "markdown",
   "id": "6777e0c4-d82c-46d8-84fb-1376c4f8bae0",
   "metadata": {
    "id": "6777e0c4-d82c-46d8-84fb-1376c4f8bae0"
   },
   "source": [
    "- As we can see, the loss decreases sharply at the beginning of the first epoch, which means the model starts learning quickly\n",
    "- We can see that slight overfitting sets in at around 1 training epoch"
   ]
  },
  {
   "cell_type": "markdown",
   "id": "87b79a47-13f9-4d1f-87b1-3339bafaf2a3",
   "metadata": {
    "id": "87b79a47-13f9-4d1f-87b1-3339bafaf2a3"
   },
   "source": [
    "## 7.7 Extracting and saving responses"
   ]
  },
  {
   "cell_type": "markdown",
   "id": "5a25cc88-1758-4dd0-b8bf-c044cbf2dd49",
   "metadata": {
    "id": "5a25cc88-1758-4dd0-b8bf-c044cbf2dd49"
   },
   "source": [
    "<img src=\"https://sebastianraschka.com/images/LLMs-from-scratch-images/ch07_compressed/chapter-overview-6.webp?1\" width=500px>"
   ]
  },
  {
   "cell_type": "markdown",
   "id": "17510e9d-7727-4d58-ba9a-d82ec23c1427",
   "metadata": {
    "id": "17510e9d-7727-4d58-ba9a-d82ec23c1427"
   },
   "source": [
    "- In this section, we save the test set responses for scoring in the next section\n",
    "- We also save a copy of the model for future use\n",
    "- But first, let's take a brief look at the responses generated by the finetuned model"
   ]
  },
  {
   "cell_type": "code",
   "execution_count": 37,
   "id": "VQ2NZMbfucAc",
   "metadata": {
    "colab": {
     "base_uri": "https://localhost:8080/"
    },
    "id": "VQ2NZMbfucAc",
    "outputId": "8416b4ac-1993-4628-dea6-7789cdc8926c"
   },
   "outputs": [
    {
     "name": "stdout",
     "output_type": "stream",
     "text": [
      "Below is an instruction that describes a task. Write a response that appropriately completes the request.\n",
      "\n",
      "### Instruction:\n",
      "Rewrite the sentence using a simile.\n",
      "\n",
      "### Input:\n",
      "The car is very fast.\n",
      "\n",
      "Correct response:\n",
      ">> The car is as fast as lightning.\n",
      "\n",
      "Model response:\n",
      ">> The car is as fast as a bullet.\n",
      "-------------------------------------\n",
      "Below is an instruction that describes a task. Write a response that appropriately completes the request.\n",
      "\n",
      "### Instruction:\n",
      "What type of cloud is typically associated with thunderstorms?\n",
      "\n",
      "Correct response:\n",
      ">> The type of cloud typically associated with thunderstorms is cumulonimbus.\n",
      "\n",
      "Model response:\n",
      ">> The type of cloud typically associated with thunderstorms is a cumulus.\n",
      "-------------------------------------\n",
      "Below is an instruction that describes a task. Write a response that appropriately completes the request.\n",
      "\n",
      "### Instruction:\n",
      "Name the author of 'Pride and Prejudice'.\n",
      "\n",
      "Correct response:\n",
      ">> Jane Austen.\n",
      "\n",
      "Model response:\n",
      ">> The author of 'Pride and Prejudice' is Jane Austen.\n",
      "-------------------------------------\n"
     ]
    }
   ],
   "source": [
    "torch.manual_seed(123)\n",
    "\n",
    "\n",
    "for entry in test_data[:3]:\n",
    "\n",
    "    input_text = format_input(entry)\n",
    "\n",
    "    token_ids = generate(\n",
    "        model=model,\n",
    "        idx=text_to_token_ids(input_text, tokenizer).to(device),\n",
    "        max_new_tokens=256,\n",
    "        context_size=BASE_CONFIG[\"context_length\"],\n",
    "        eos_id=50256\n",
    "    )\n",
    "    generated_text = token_ids_to_text(token_ids, tokenizer)\n",
    "    response_text = (\n",
    "        generated_text[len(input_text):]\n",
    "        .replace(\"### Response:\", \"\")\n",
    "        .strip()\n",
    ")\n",
    "\n",
    "    print(input_text)\n",
    "    print(f\"\\nCorrect response:\\n>> {entry['output']}\")\n",
    "    print(f\"\\nModel response:\\n>> {response_text.strip()}\")\n",
    "    print(\"-------------------------------------\")"
   ]
  },
  {
   "cell_type": "markdown",
   "id": "49ab64c1-586f-4939-8def-23feeb1b3599",
   "metadata": {
    "id": "49ab64c1-586f-4939-8def-23feeb1b3599"
   },
   "source": [
    "- As we can see based on the test set instructions, given responses, and the model's responses, the model performs relatively well\n",
    "- The answers to the first and last instructions are clearly correct\n",
    "- The second answer is close; the model answers with \"cumulus cloud\" instead of \"cumulonimbus\" (however, note that cumulus clouds can develop into cumulonimbus clouds, which are capable of producing thunderstorms)\n",
    "- Most importantly, we can see that model evaluation is not as straightforward as in the previous chapter, where we just had to calculate the percentage of correct spam/non-spam class labels to obtain the classification accuracy\n",
    "- In practice, instruction-finetuned LLMs such as chatbots are evaluated via multiple approaches\n",
    "  - short-answer and multiple choice benchmarks such as MMLU (\"Measuring Massive Multitask Language Understanding\", [https://arxiv.org/abs/2009.03300](https://arxiv.org/abs/2009.03300)), which test the knowledge of a model\n",
    "  - human preference comparison to other LLMs, such as LMSYS chatbot arena ([https://arena.lmsys.org](https://arena.lmsys.org))\n",
    "  - automated conversational benchmarks, where another LLM like GPT-4 is used to evaluate the responses, such as AlpacaEval ([https://tatsu-lab.github.io/alpaca_eval/](https://tatsu-lab.github.io/alpaca_eval/))\n",
    "\n",
    "- In the next section, we will use an approach similar to AlpacaEval and use another LLM to evaluate the responses of our model; however, we will use our own test set instead of using a publicly available benchmark dataset\n",
    "- For this, we add the model response to the `test_data` dictionary and save it as a `\"instruction-data-with-response.json\"` file for record-keeping so that we can load and analyze it in separate Python sessions if needed"
   ]
  },
  {
   "cell_type": "code",
   "execution_count": 38,
   "id": "-PNGKzY4snKP",
   "metadata": {
    "colab": {
     "base_uri": "https://localhost:8080/"
    },
    "id": "-PNGKzY4snKP",
    "outputId": "0453dfb3-51cd-49e2-9e63-f65b606c3478"
   },
   "outputs": [
    {
     "name": "stderr",
     "output_type": "stream",
     "text": [
      "100%|██████████| 110/110 [05:44<00:00,  3.13s/it]\n"
     ]
    }
   ],
   "source": [
    "from tqdm import tqdm\n",
    "\n",
    "for i, entry in tqdm(enumerate(test_data), total=len(test_data)):\n",
    "\n",
    "    input_text = format_input(entry)\n",
    "\n",
    "    token_ids = generate(\n",
    "        model=model,\n",
    "        idx=text_to_token_ids(input_text, tokenizer).to(device),\n",
    "        max_new_tokens=256,\n",
    "        context_size=BASE_CONFIG[\"context_length\"],\n",
    "        eos_id=50256\n",
    "    )\n",
    "    generated_text = token_ids_to_text(token_ids, tokenizer)\n",
    "    response_text = generated_text[len(input_text):].replace(\"### Response:\", \"\").strip()\n",
    "\n",
    "    test_data[i][\"model_response\"] = response_text\n",
    "\n",
    "\n",
    "with open(\"instruction-data-with-response.json\", \"w\") as file:\n",
    "    json.dump(test_data, file, indent=4)  # \"indent\" for pretty-printing"
   ]
  },
  {
   "cell_type": "markdown",
   "id": "228d6fa7-d162-44c3-bef1-4013c027b155",
   "metadata": {
    "id": "228d6fa7-d162-44c3-bef1-4013c027b155"
   },
   "source": [
    "- Let's double-check one of the entries to see whether the responses have been added to the `test_data` dictionary correctly"
   ]
  },
  {
   "cell_type": "code",
   "execution_count": 39,
   "id": "u-AvCCMTnPSE",
   "metadata": {
    "colab": {
     "base_uri": "https://localhost:8080/"
    },
    "id": "u-AvCCMTnPSE",
    "outputId": "ce3b2545-8990-4446-e44c-a945e0049c06"
   },
   "outputs": [
    {
     "name": "stdout",
     "output_type": "stream",
     "text": [
      "{'instruction': 'Rewrite the sentence using a simile.', 'input': 'The car is very fast.', 'output': 'The car is as fast as lightning.', 'model_response': 'The car is as fast as a bullet.'}\n"
     ]
    }
   ],
   "source": [
    "print(test_data[0])"
   ]
  },
  {
   "cell_type": "markdown",
   "id": "c1b2f3f6-8569-405a-9db6-d47cba65608a",
   "metadata": {
    "id": "c1b2f3f6-8569-405a-9db6-d47cba65608a"
   },
   "source": [
    "- Finally, we also save the model in case we want to reuse it in the future"
   ]
  },
  {
   "cell_type": "code",
   "execution_count": 40,
   "id": "8cBU0iHmVfOI",
   "metadata": {
    "colab": {
     "base_uri": "https://localhost:8080/"
    },
    "id": "8cBU0iHmVfOI",
    "outputId": "d6e7f226-9310-43f5-f31f-adc3a893a8e9",
    "scrolled": true
   },
   "outputs": [
    {
     "name": "stdout",
     "output_type": "stream",
     "text": [
      "Model saved as gpt2-medium355M-sft.pth\n"
     ]
    }
   ],
   "source": [
    "import re\n",
    "\n",
    "\n",
    "file_name = f\"{re.sub(r'[ ()]', '', CHOOSE_MODEL) }-sft.pth\"\n",
    "torch.save(model.state_dict(), file_name)\n",
    "print(f\"Model saved as {file_name}\")\n",
    "\n",
    "# Load model via\n",
    "# model.load_state_dict(torch.load(\"gpt2-medium355M-sft.pth\"))"
   ]
  },
  {
   "cell_type": "markdown",
   "id": "obgoGI89dgPm",
   "metadata": {
    "id": "obgoGI89dgPm"
   },
   "source": [
    "## 7.8 Evaluating the finetuned LLM"
   ]
  },
  {
   "cell_type": "markdown",
   "id": "805b9d30-7336-499f-abb5-4a21be3129f5",
   "metadata": {
    "id": "805b9d30-7336-499f-abb5-4a21be3129f5"
   },
   "source": [
    "<img src=\"https://sebastianraschka.com/images/LLMs-from-scratch-images/ch07_compressed/chapter-overview-7.webp?1\" width=500px>"
   ]
  },
  {
   "cell_type": "markdown",
   "id": "68d2b9d3-b6ff-4533-a89d-7b66079b4fd1",
   "metadata": {
    "id": "68d2b9d3-b6ff-4533-a89d-7b66079b4fd1"
   },
   "source": [
    "- In this section, we automate the response evaluation of the finetuned LLM using another, larger LLM\n",
    "- In particular, we use an instruction-finetuned 8-billion-parameter Llama 3 model by Meta AI that can be run locally via ollama ([https://ollama.com](https://ollama.com))\n",
    "- (Alternatively, if you prefer using a more capable LLM like GPT-4 via the OpenAI API, please see the [llm-instruction-eval-openai.ipynb](../03_model-evaluation/llm-instruction-eval-openai.ipynb) notebook)"
   ]
  },
  {
   "cell_type": "markdown",
   "id": "ea427a30-36ba-44e3-bb1f-eb0d7008d6e9",
   "metadata": {
    "id": "ea427a30-36ba-44e3-bb1f-eb0d7008d6e9"
   },
   "source": [
    "- Ollama is an application to run LLMs efficiently\n",
    "- It is a wrapper around llama.cpp ([https://github.com/ggerganov/llama.cpp](https://github.com/ggerganov/llama.cpp)), which implements LLMs in pure C/C++ to maximize efficiency\n",
    "- Note that it is a tool for using LLMs to generate text (inference), not training or finetuning LLMs\n",
    "- Before running the code below, install ollama by visiting [https://ollama.com](https://ollama.com) and following the instructions (for instance, clicking on the \"Download\" button and downloading the ollama application for your operating system)"
   ]
  },
  {
   "cell_type": "markdown",
   "id": "747a2fc7-282d-47ec-a987-ed0a23ed6822",
   "metadata": {
    "id": "747a2fc7-282d-47ec-a987-ed0a23ed6822"
   },
   "source": [
    "- For macOS and Windows users, click on the ollama application you downloaded; if it prompts you to install the command line usage, say \"yes\"\n",
    "- Linux users can use the installation command provided on the ollama website\n",
    "\n",
    "- In general, before we can use ollama from the command line, we have to either start the ollama application or run `ollama serve` in a separate terminal\n",
    "\n",
    "<img src=\"https://sebastianraschka.com/images/LLMs-from-scratch-images/ch07_compressed/ollama-run.webp?1\" width=700px>\n",
    "\n",
    "\n",
    "- With the ollama application or `ollama serve` running in a different terminal, on the command line, execute the following command to try out the 8-billion-parameter Llama 3 model (the model, which takes up 4.7 GB of storage space, will be automatically downloaded the first time you execute this command)\n",
    "\n",
    "```bash\n",
    "# 8B model\n",
    "ollama run llama3\n",
    "```\n",
    "\n",
    "\n",
    "The output looks like as follows\n",
    "\n",
    "```\n",
    "$ ollama run llama3\n",
    "pulling manifest\n",
    "pulling 6a0746a1ec1a... 100% ▕████████████████▏ 4.7 GB\n",
    "pulling 4fa551d4f938... 100% ▕████████████████▏  12 KB\n",
    "pulling 8ab4849b038c... 100% ▕████████████████▏  254 B\n",
    "pulling 577073ffcc6c... 100% ▕████████████████▏  110 B\n",
    "pulling 3f8eb4da87fa... 100% ▕████████████████▏  485 B\n",
    "verifying sha256 digest\n",
    "writing manifest\n",
    "removing any unused layers\n",
    "success\n",
    "```\n",
    "\n",
    "- Note that `llama3` refers to the instruction finetuned 8-billion-parameter Llama 3 model\n",
    "\n",
    "- Using ollama with the `\"llama3\"` model (a 8B parameter model) requires 16 GB of RAM; if this is not supported by your machine, you can try the smaller model, such as the 3.8B parameter phi-3 model by setting `model = \"phi-3\"`, which only requires 8 GB of RAM\n",
    "\n",
    "- Alternatively, you can also use the larger 70-billion-parameter Llama 3 model, if your machine supports it, by replacing `llama3` with `llama3:70b`\n",
    "\n",
    "- After the download has been completed, you will see a command line prompt that allows you to chat with the model\n",
    "\n",
    "- Try a prompt like \"What do llamas eat?\", which should return an output similar to the following\n",
    "\n",
    "```\n",
    ">>> What do llamas eat?\n",
    "Llamas are ruminant animals, which means they have a four-chambered\n",
    "stomach and eat plants that are high in fiber. In the wild, llamas\n",
    "typically feed on:\n",
    "1. Grasses: They love to graze on various types of grasses, including tall\n",
    "grasses, wheat, oats, and barley.\n",
    "```"
   ]
  },
  {
   "cell_type": "markdown",
   "id": "7b7b341c-ba0e-40bb-a52c-cb328bbd1fe4",
   "metadata": {
    "id": "7b7b341c-ba0e-40bb-a52c-cb328bbd1fe4"
   },
   "source": [
    "- You can end this session using the input `/bye`"
   ]
  },
  {
   "cell_type": "markdown",
   "id": "faaf3e02-8ca0-4edf-be23-60625a5b14e3",
   "metadata": {
    "id": "faaf3e02-8ca0-4edf-be23-60625a5b14e3"
   },
   "source": [
    "- The following code checks whether the ollama session is running correctly before proceeding to use ollama to evaluate the test set responses we generated in the previous section"
   ]
  },
  {
   "cell_type": "code",
   "execution_count": 41,
   "id": "026e8570-071e-48a2-aa38-64d7be35f288",
   "metadata": {
    "colab": {
     "base_uri": "https://localhost:8080/",
     "height": 193
    },
    "id": "026e8570-071e-48a2-aa38-64d7be35f288",
    "outputId": "e30d3533-e1f5-4aa9-b24f-33273fc7b30e"
   },
   "outputs": [
    {
     "name": "stdout",
     "output_type": "stream",
     "text": [
      "Ollama running: True\n"
     ]
    }
   ],
   "source": [
    "import psutil\n",
    "\n",
    "def check_if_running(process_name):\n",
    "    running = False\n",
    "    for proc in psutil.process_iter([\"name\"]):\n",
    "        if process_name in proc.info[\"name\"]:\n",
    "            running = True\n",
    "            break\n",
    "    return running\n",
    "\n",
    "ollama_running = check_if_running(\"ollama\")\n",
    "\n",
    "if not ollama_running:\n",
    "    raise RuntimeError(\"Ollama not running. Launch ollama before proceeding.\")\n",
    "print(\"Ollama running:\", check_if_running(\"ollama\"))"
   ]
  },
  {
   "cell_type": "code",
   "execution_count": 2,
   "id": "723c9b00-e3cd-4092-83c3-6e48b5cf65b0",
   "metadata": {
    "id": "723c9b00-e3cd-4092-83c3-6e48b5cf65b0"
   },
   "outputs": [],
   "source": [
    "# This cell is optional; it allows you to restart the notebook\n",
    "# and only run section 7.7 without rerunning any of the previous code\n",
    "import json\n",
    "from tqdm import tqdm\n",
    "\n",
    "file_path = \"instruction-data-with-response.json\"\n",
    "\n",
    "with open(file_path, \"r\") as file:\n",
    "    test_data = json.load(file)\n",
    "\n",
    "\n",
    "def format_input(entry):\n",
    "    instruction_text = (\n",
    "        f\"Below is an instruction that describes a task. \"\n",
    "        f\"Write a response that appropriately completes the request.\"\n",
    "        f\"\\n\\n### Instruction:\\n{entry['instruction']}\"\n",
    "    )\n",
    "\n",
    "    input_text = f\"\\n\\n### Input:\\n{entry['input']}\" if entry[\"input\"] else \"\"\n",
    "\n",
    "    return instruction_text + input_text"
   ]
  },
  {
   "cell_type": "markdown",
   "id": "b3464705-d026-4594-977f-fb357e51c3a9",
   "metadata": {
    "id": "b3464705-d026-4594-977f-fb357e51c3a9"
   },
   "source": [
    "- Now, an alternative way to the `ollama run` command we used earlier to interact with the model is via its REST API in Python via the following function\n",
    "- Before you run the next cells in this notebook, make sure that ollama is still running (the previous code cells should print `\"Ollama running: True\"`)\n",
    "- Next, run the following code cell to query the model"
   ]
  },
  {
   "cell_type": "code",
   "execution_count": 42,
   "id": "e3ae0e10-2b28-42ce-8ea2-d9366a58088f",
   "metadata": {
    "id": "e3ae0e10-2b28-42ce-8ea2-d9366a58088f"
   },
   "outputs": [
    {
     "name": "stdout",
     "output_type": "stream",
     "text": [
      "Llamas are herbivores, which means they primarily feed on plant-based foods. Their diet typically consists of:\n",
      "\n",
      "1. Grasses: Llamas love to graze on various types of grasses, including tall grasses, short grasses, and even weeds.\n",
      "2. Hay: High-quality hay, such as alfalfa or timothy hay, is a staple in a llama's diet. They enjoy the sweet taste and texture of fresh hay.\n",
      "3. Grains: Llamas may receive grains like oats, barley, or corn as part of their daily ration. However, it's essential to provide these grains in moderation, as they can be high in calories.\n",
      "4. Fruits and vegetables: Llamas enjoy a variety of fruits and veggies, such as apples, carrots, sweet potatoes, and leafy greens like kale or spinach.\n",
      "5. Minerals: Llamas require access to mineral supplements, which help maintain their overall health and well-being.\n",
      "\n",
      "In the wild, llamas might also eat:\n",
      "\n",
      "1. Leaves: They'll munch on leaves from trees and shrubs, including plants like willow, alder, and birch.\n",
      "2. Bark: In some cases, llamas may eat the bark of certain trees, like aspen or cottonwood.\n",
      "3. Mosses and lichens: These non-vascular plants can be a tasty snack for llamas.\n",
      "\n",
      "In captivity, llama owners typically provide a balanced diet that includes a mix of hay, grains, and fruits/vegetables. It's essential to consult with a veterinarian or experienced llama breeder to determine the best feeding plan for your llama.\n"
     ]
    }
   ],
   "source": [
    "import urllib.request\n",
    "\n",
    "def query_model(\n",
    "    prompt,\n",
    "    model=\"llama3\",\n",
    "    url=\"http://localhost:11434/api/chat\"\n",
    "):\n",
    "    # Create the data payload as a dictionary\n",
    "    data = {\n",
    "        \"model\": model,\n",
    "        \"messages\": [\n",
    "            {\"role\": \"user\", \"content\": prompt}\n",
    "        ],\n",
    "        \"options\": {     # Settings below are required for deterministic responses\n",
    "            \"seed\": 123,\n",
    "            \"temperature\": 0,\n",
    "            \"num_ctx\": 2048\n",
    "        }\n",
    "    }\n",
    "\n",
    "\n",
    "    # Convert the dictionary to a JSON formatted string and encode it to bytes\n",
    "    payload = json.dumps(data).encode(\"utf-8\")\n",
    "\n",
    "    # Create a request object, setting the method to POST and adding necessary headers\n",
    "    request = urllib.request.Request(\n",
    "        url,\n",
    "        data=payload,\n",
    "        method=\"POST\"\n",
    "    )\n",
    "    request.add_header(\"Content-Type\", \"application/json\")\n",
    "\n",
    "    # Send the request and capture the response\n",
    "    response_data = \"\"\n",
    "    with urllib.request.urlopen(request) as response:\n",
    "        # Read and decode the response\n",
    "        while True:\n",
    "            line = response.readline().decode(\"utf-8\")\n",
    "            if not line:\n",
    "                break\n",
    "            response_json = json.loads(line)\n",
    "            response_data += response_json[\"message\"][\"content\"]\n",
    "\n",
    "    return response_data\n",
    "\n",
    "\n",
    "model = \"llama3\"\n",
    "result = query_model(\"What do Llamas eat?\", model)\n",
    "print(result)"
   ]
  },
  {
   "cell_type": "markdown",
   "id": "207ae28f-0f8c-4fda-aeef-e7e3046249cc",
   "metadata": {
    "id": "207ae28f-0f8c-4fda-aeef-e7e3046249cc"
   },
   "source": [
    "- Now, using the `query_model` function we defined above, we can evaluate the responses of our finetuned model; let's try it out on the first 3 test set responses we looked at in a previous section"
   ]
  },
  {
   "cell_type": "code",
   "execution_count": 43,
   "id": "86b839d4-064d-4178-b2d7-01691b452e5e",
   "metadata": {
    "id": "86b839d4-064d-4178-b2d7-01691b452e5e"
   },
   "outputs": [
    {
     "name": "stdout",
     "output_type": "stream",
     "text": [
      "\n",
      "Dataset response:\n",
      ">> The car is as fast as lightning.\n",
      "\n",
      "Model response:\n",
      ">> The car is as fast as a bullet.\n",
      "\n",
      "Score:\n",
      ">> I'd rate the model response \"The car is as fast as a bullet.\" an 85 out of 100.\n",
      "\n",
      "Here's why:\n",
      "\n",
      "* The response uses a simile correctly, comparing the speed of the car to something else (in this case, a bullet).\n",
      "* The comparison is relevant and makes sense, as bullets are known for their high velocity.\n",
      "* The phrase \"as fast as\" is used correctly to introduce the simile.\n",
      "\n",
      "The only reason I wouldn't give it a perfect score is that some people might find the comparison slightly less vivid or evocative than others. For example, comparing something to lightning (as in the original response) can be more dramatic and attention-grabbing. However, \"as fast as a bullet\" is still a strong and effective simile that effectively conveys the idea of the car's speed.\n",
      "\n",
      "Overall, I think the model did a great job!\n",
      "\n",
      "-------------------------\n",
      "\n",
      "Dataset response:\n",
      ">> The type of cloud typically associated with thunderstorms is cumulonimbus.\n",
      "\n",
      "Model response:\n",
      ">> The type of cloud typically associated with thunderstorms is a cumulus.\n",
      "\n",
      "Score:\n",
      ">> I'd score this model response as 60.\n",
      "\n",
      "Here's why:\n",
      "\n",
      "* The model correctly identifies that cumulonimbus clouds are associated with thunderstorms (correct answer: 50 points)\n",
      "* However, it incorrectly states that the type of cloud typically associated with thunderstorms is a cumulus, which is not accurate (incorrect answer: -20 points)\n",
      "\n",
      "Total score: 30/100\n",
      "\n",
      "Note that this scoring system assumes that the model's response is either entirely correct or entirely incorrect. In reality, there may be nuances to consider when evaluating the quality of a model's response.\n",
      "\n",
      "-------------------------\n",
      "\n",
      "Dataset response:\n",
      ">> Jane Austen.\n",
      "\n",
      "Model response:\n",
      ">> The author of 'Pride and Prejudice' is Jane Austen.\n",
      "\n",
      "Score:\n",
      ">> I'd rate my own response as 95 out of 100. Here's why:\n",
      "\n",
      "* The response accurately answers the question by naming the author of 'Pride and Prejudice' as Jane Austen.\n",
      "* The response is concise and clear, making it easy to understand.\n",
      "* There are no grammatical errors or ambiguities that could lead to confusion.\n",
      "\n",
      "The only reason I wouldn't give myself a perfect score is that the response is slightly redundant - it's not necessary to rephrase the question in the answer. A more concise response would be simply \"Jane Austen.\"\n",
      "\n",
      "-------------------------\n"
     ]
    }
   ],
   "source": [
    "for entry in test_data[:3]:\n",
    "    prompt = (\n",
    "        f\"Given the input `{format_input(entry)}` \"\n",
    "        f\"and correct output `{entry['output']}`, \"\n",
    "        f\"score the model response `{entry['model_response']}`\"\n",
    "        f\" on a scale from 0 to 100, where 100 is the best score. \"\n",
    "    )\n",
    "    print(\"\\nDataset response:\")\n",
    "    print(\">>\", entry['output'])\n",
    "    print(\"\\nModel response:\")\n",
    "    print(\">>\", entry[\"model_response\"])\n",
    "    print(\"\\nScore:\")\n",
    "    print(\">>\", query_model(prompt))\n",
    "    print(\"\\n-------------------------\")"
   ]
  },
  {
   "cell_type": "markdown",
   "id": "b114fd65-9cfb-45f6-ab74-8331da136bf3",
   "metadata": {
    "id": "b114fd65-9cfb-45f6-ab74-8331da136bf3"
   },
   "source": [
    "- As we can see, the Llama 3 model provides a reasonable evaluation and also gives partial points if a model is not entirely correct, as we can see based on the \"cumulus cloud\" answer\n",
    "- Note that the previous prompt returns very verbose evaluations; we can tweak the prompt to generate integer responses in the range between 0 and 100 (where 100 is best) to calculate an average score for our model\n",
    "- The evaluation of the 110 entries in the test set takes about 1 minute on an M3 MacBook Air laptop"
   ]
  },
  {
   "cell_type": "code",
   "execution_count": 44,
   "id": "9d7bca69-97c4-47a5-9aa0-32f116fa37eb",
   "metadata": {
    "id": "9d7bca69-97c4-47a5-9aa0-32f116fa37eb"
   },
   "outputs": [
    {
     "name": "stderr",
     "output_type": "stream",
     "text": [
      "Scoring entries:  25%|██▍       | 27/110 [00:09<00:36,  2.30it/s]"
     ]
    },
    {
     "name": "stdout",
     "output_type": "stream",
     "text": [
      "Could not convert score: Privet (87)\n"
     ]
    },
    {
     "name": "stderr",
     "output_type": "stream",
     "text": [
      "Scoring entries: 100%|██████████| 110/110 [00:37<00:00,  2.92it/s]"
     ]
    },
    {
     "name": "stdout",
     "output_type": "stream",
     "text": [
      "Number of scores: 109 of 110\n",
      "Average score: 41.96\n",
      "\n"
     ]
    },
    {
     "name": "stderr",
     "output_type": "stream",
     "text": [
      "\n"
     ]
    }
   ],
   "source": [
    "def generate_model_scores(json_data, json_key, model=\"llama3\"):\n",
    "    scores = []\n",
    "    for entry in tqdm(json_data, desc=\"Scoring entries\"):\n",
    "        prompt = (\n",
    "            f\"Given the input `{format_input(entry)}` \"\n",
    "            f\"and correct output `{entry['output']}`, \"\n",
    "            f\"score the model response `{entry[json_key]}`\"\n",
    "            f\" on a scale from 0 to 100, where 100 is the best score. \"\n",
    "            f\"Respond with the integer number only.\"\n",
    "        )\n",
    "        score = query_model(prompt, model)\n",
    "        try:\n",
    "            scores.append(int(score))\n",
    "        except ValueError:\n",
    "            print(f\"Could not convert score: {score}\")\n",
    "            continue\n",
    "\n",
    "    return scores\n",
    "\n",
    "\n",
    "scores = generate_model_scores(test_data, \"model_response\")\n",
    "print(f\"Number of scores: {len(scores)} of {len(test_data)}\")\n",
    "print(f\"Average score: {sum(scores)/len(scores):.2f}\\n\")"
   ]
  },
  {
   "cell_type": "markdown",
   "id": "407f08d5-9ada-4301-9ebc-f0533c76d3f2",
   "metadata": {
    "id": "407f08d5-9ada-4301-9ebc-f0533c76d3f2"
   },
   "source": [
    "- Our model achieves an average score of above 50, which we can use as a reference point to compare the model to other models or to try out other training settings that may improve the model\n",
    "- Note that ollama is not fully deterministic across operating systems (as of this writing), so the numbers you are getting might slightly differ from the ones shown above"
   ]
  },
  {
   "cell_type": "markdown",
   "id": "6408768b-2784-44f1-b48e-aed0c1eb9b94",
   "metadata": {
    "id": "6408768b-2784-44f1-b48e-aed0c1eb9b94"
   },
   "source": [
    "- For reference, the original\n",
    "  - Llama 3 8B base model achieves a score of 58.51\n",
    "  - Llama 3 8B instruct model achieves a score of 82.65"
   ]
  },
  {
   "cell_type": "markdown",
   "id": "412d7325-284a-446c-92a1-5aa8acc52dee",
   "metadata": {
    "id": "412d7325-284a-446c-92a1-5aa8acc52dee"
   },
   "source": [
    "## 7.9 Conclusions"
   ]
  },
  {
   "cell_type": "markdown",
   "id": "tIbNMluCDjVM",
   "metadata": {
    "id": "tIbNMluCDjVM"
   },
   "source": [
    "### 7.9.1 What's next\n",
    "\n",
    "- This marks the final chapter of this book\n",
    "- We covered the major steps of the LLM development cycle: implementing an LLM architecture, pretraining an LLM, and finetuning it\n",
    "\n",
    "<img src=\"https://sebastianraschka.com/images/LLMs-from-scratch-images/ch07_compressed/final-overview.webp?1\" width=500px>\n",
    "\n",
    "- An optional step that is sometimes followed after instruction finetuning, as described in this chapter, is preference finetuning\n",
    "- Preference finetuning process can be particularly useful for customizing a model to better align with specific user preferences; see the [../04_preference-tuning-with-dpo](../04_preference-tuning-with-dpo) folder if you are interested in this\n",
    "\n",
    "- This GitHub repository also contains a large selection of additional bonus material you may enjoy; for more information, please see the [Bonus Material](https://github.com/rasbt/LLMs-from-scratch?tab=readme-ov-file#bonus-material) section on this repository's README page\n",
    "\n",
    "### 7.9.2 Staying up to date in a fast-moving field\n",
    "\n",
    "- No code in this section\n",
    "\n",
    "### 7.9.3 Final words\n",
    "\n",
    "- I hope you enjoyed this journey of implementing an LLM from the ground up and coding the pretraining and finetuning functions\n",
    "- In my opinion, implementing an LLM from scratch is the best way to understand how LLMs work; I hope you gained a better understanding through this approach\n",
    "- While this book serves educational purposes, you may be interested in using different and more powerful LLMs for real-world applications\n",
    "  - For this, you may consider popular tools such as axolotl ([https://github.com/OpenAccess-AI-Collective/axolotl](https://github.com/OpenAccess-AI-Collective/axolotl)) or LitGPT ([https://github.com/Lightning-AI/litgpt](https://github.com/Lightning-AI/litgpt)), which I help developing"
   ]
  },
  {
   "cell_type": "markdown",
   "id": "f9853e7f-a81a-4806-9728-be1690807185",
   "metadata": {
    "id": "f9853e7f-a81a-4806-9728-be1690807185"
   },
   "source": [
    "## Summary and takeaways\n",
    "\n",
    "- See the [./gpt_instruction_finetuning.py](./gpt_instruction_finetuning.py) script, a self-contained script for classification finetuning\n",
    "- [./ollama_evaluate.py](./ollama_evaluate.py) is a standalone script based on section 7.8 that evaluates a JSON file containing \"output\" and \"response\" keys via Ollama and Llama 3\n",
    "- The [./load-finetuned-model.ipynb](./load-finetuned-model.ipynb) notebook illustrates how to load the finetuned model in a new session\n",
    "- You can find the exercise solutions in [./exercise-solutions.ipynb](./exercise-solutions.ipynb)"
   ]
  },
  {
   "cell_type": "markdown",
   "id": "b9cc51ec-e06c-4470-b626-48401a037851",
   "metadata": {},
   "source": [
    "## What's next?\n",
    "\n",
    "- Congrats on completing the book; in case you are looking for additional resources, I added several bonus sections to this GitHub repository that you might find interesting\n",
    "- The complete list of bonus materials can be viewed in the main README's [Bonus Material](https://github.com/rasbt/LLMs-from-scratch?tab=readme-ov-file#bonus-material) section\n",
    "- To highlight a few of my favorites:\n",
    "  1. [Direct Preference Optimization (DPO) for LLM Alignment (From Scratch)](../04_preference-tuning-with-dpo/dpo-from-scratch.ipynb) implements a popular preference tuning mechanism to align the model from this chapter more closely with human preferences\n",
    "  2. [Llama 3.2 From Scratch (A Standalone Notebook)](../../ch05/07_gpt_to_llama/standalone-llama32.ipynb), a from-scratch implementation of Meta AI's popular Llama 3.2, including loading the official pretrained weights; if you are up to some additional experiments, you can replace the `GPTModel` model in each of the chapters with the `Llama3Model` class (it should work as a 1:1 replacement)\n",
    "  3. [Converting GPT to Llama](../../ch05/07_gpt_to_llama) contains code with step-by-step guides that explain the differences between GPT-2 and the various Llama models\n",
    "  4. [Understanding the Difference Between Embedding Layers and Linear Layers](../../ch02/03_bonus_embedding-vs-matmul/embeddings-and-linear-layers.ipynb) is a conceptual explanation illustrating that the `Embedding` layer in PyTorch, which we use at the input stage of an LLM, is mathematically equivalent to a linear layer applied to one-hot encoded data\n",
    "- Happy further reading!"
   ]
  }
 ],
 "metadata": {
  "accelerator": "GPU",
  "colab": {
   "gpuType": "A100",
   "provenance": []
  },
  "kernelspec": {
   "display_name": "build-a-llm-from-stratch",
   "language": "python",
   "name": "python3"
  },
  "language_info": {
   "codemirror_mode": {
    "name": "ipython",
    "version": 3
   },
   "file_extension": ".py",
   "mimetype": "text/x-python",
   "name": "python",
   "nbconvert_exporter": "python",
   "pygments_lexer": "ipython3",
   "version": "3.12.8"
  }
 },
 "nbformat": 4,
 "nbformat_minor": 5
}
